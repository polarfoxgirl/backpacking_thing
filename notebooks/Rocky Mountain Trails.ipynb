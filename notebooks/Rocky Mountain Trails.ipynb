{
 "cells": [
  {
   "cell_type": "code",
   "execution_count": 32,
   "metadata": {},
   "outputs": [],
   "source": [
    "from arcgis.gis import GIS, Layer\n",
    "from IPython.display import display"
   ]
  },
  {
   "cell_type": "code",
   "execution_count": 33,
   "metadata": {},
   "outputs": [],
   "source": [
    "gis = GIS()"
   ]
  },
  {
   "cell_type": "code",
   "execution_count": 34,
   "metadata": {},
   "outputs": [],
   "source": [
    "map = gis.map(\"Rocky Mountain National Park\")"
   ]
  },
  {
   "cell_type": "code",
   "execution_count": 35,
   "metadata": {},
   "outputs": [
    {
     "data": {
      "text/html": [
       "<div class=\"item_container\" style=\"height: auto; overflow: hidden; border: 1px solid #cfcfcf; border-radius: 2px; background: #f6fafa; line-height: 1.21429em; padding: 10px;\">\n",
       "                    <div class=\"item_left\" style=\"width: 210px; float: left;\">\n",
       "                       <a href='https://www.arcgis.com/home/item.html?id=93f614510d274e17bf4e77b6102b79ba' target='_blank'>\n",
       "                        <img src='https://www.arcgis.com/sharing/rest//content/items/93f614510d274e17bf4e77b6102b79ba/info/thumbnail/thumbnail.png' class=\"itemThumbnail\">\n",
       "                       </a>\n",
       "                    </div>\n",
       "\n",
       "                    <div class=\"item_right\"     style=\"float: none; width: auto; overflow: hidden;\">\n",
       "                        <a href='https://www.arcgis.com/home/item.html?id=93f614510d274e17bf4e77b6102b79ba' target='_blank'><b>Backcountry Campsites for 2017</b>\n",
       "                        </a>\n",
       "                        <br/>Backcountry campsite locations within Rocky Mountain National Park for 2017. For more information, visit: https://www.nps.gov/romo/planyourvisit/wilderness-camping.htm<img src='https://www.arcgis.com/home/js/jsapi/esri/css/images/item_type_icons/featureshosted16.png' style=\"vertical-align:middle;\">Feature Layer Collection by romo_gis\n",
       "                        <br/>Last Modified: July 03, 2019\n",
       "                        <br/>0 comments, 1,150 views\n",
       "                    </div>\n",
       "                </div>\n",
       "                "
      ],
      "text/plain": [
       "<Item title:\"Backcountry Campsites for 2017\" type:Feature Layer Collection owner:romo_gis>"
      ]
     },
     "metadata": {},
     "output_type": "display_data"
    },
    {
     "data": {
      "text/html": [
       "<div class=\"item_container\" style=\"height: auto; overflow: hidden; border: 1px solid #cfcfcf; border-radius: 2px; background: #f6fafa; line-height: 1.21429em; padding: 10px;\">\n",
       "                    <div class=\"item_left\" style=\"width: 210px; float: left;\">\n",
       "                       <a href='https://www.arcgis.com/home/item.html?id=f781fdc73f924a0f9e3eb45b695f2999' target='_blank'>\n",
       "                        <img src='https://www.arcgis.com/sharing/rest//content/items/f781fdc73f924a0f9e3eb45b695f2999/info/thumbnail/ago_downloaded.png' class=\"itemThumbnail\">\n",
       "                       </a>\n",
       "                    </div>\n",
       "\n",
       "                    <div class=\"item_right\"     style=\"float: none; width: auto; overflow: hidden;\">\n",
       "                        <a href='https://www.arcgis.com/home/item.html?id=f781fdc73f924a0f9e3eb45b695f2999' target='_blank'><b>Rocky Mountain National Park - Backcountry Mgt Zones</b>\n",
       "                        </a>\n",
       "                        <br/>Rocky Mountain National Park - Backcountry Mgt Zones  (Public, Open Data)<img src='https://www.arcgis.com/home/js/jsapi/esri/css/images/item_type_icons/featureshosted16.png' style=\"vertical-align:middle;\">Feature Layer Collection by imrgis_nps\n",
       "                        <br/>Last Modified: April 08, 2019\n",
       "                        <br/>0 comments, 137 views\n",
       "                    </div>\n",
       "                </div>\n",
       "                "
      ],
      "text/plain": [
       "<Item title:\"Rocky Mountain National Park - Backcountry Mgt Zones\" type:Feature Layer Collection owner:imrgis_nps>"
      ]
     },
     "metadata": {},
     "output_type": "display_data"
    },
    {
     "data": {
      "text/html": [
       "<div class=\"item_container\" style=\"height: auto; overflow: hidden; border: 1px solid #cfcfcf; border-radius: 2px; background: #f6fafa; line-height: 1.21429em; padding: 10px;\">\n",
       "                    <div class=\"item_left\" style=\"width: 210px; float: left;\">\n",
       "                       <a href='https://www.arcgis.com/home/item.html?id=d8d7e34d753540b08c6404c213be38a0' target='_blank'>\n",
       "                        <img src='https://www.arcgis.com/sharing/rest//content/items/d8d7e34d753540b08c6404c213be38a0/info/thumbnail/ago_downloaded.png' class=\"itemThumbnail\">\n",
       "                       </a>\n",
       "                    </div>\n",
       "\n",
       "                    <div class=\"item_right\"     style=\"float: none; width: auto; overflow: hidden;\">\n",
       "                        <a href='https://www.arcgis.com/home/item.html?id=d8d7e34d753540b08c6404c213be38a0' target='_blank'><b>Rocky Mountain National Park - Backcountry Place Names</b>\n",
       "                        </a>\n",
       "                        <br/>Rocky Mountain National Park - Backcountry Place Names  (Public, Open Data)<img src='https://www.arcgis.com/home/js/jsapi/esri/css/images/item_type_icons/featureshosted16.png' style=\"vertical-align:middle;\">Feature Layer Collection by imrgis_nps\n",
       "                        <br/>Last Modified: April 08, 2019\n",
       "                        <br/>0 comments, 80 views\n",
       "                    </div>\n",
       "                </div>\n",
       "                "
      ],
      "text/plain": [
       "<Item title:\"Rocky Mountain National Park - Backcountry Place Names\" type:Feature Layer Collection owner:imrgis_nps>"
      ]
     },
     "metadata": {},
     "output_type": "display_data"
    },
    {
     "data": {
      "text/html": [
       "<div class=\"item_container\" style=\"height: auto; overflow: hidden; border: 1px solid #cfcfcf; border-radius: 2px; background: #f6fafa; line-height: 1.21429em; padding: 10px;\">\n",
       "                    <div class=\"item_left\" style=\"width: 210px; float: left;\">\n",
       "                       <a href='https://www.arcgis.com/home/item.html?id=ec179651caf84ab98f3b98934b524ec9' target='_blank'>\n",
       "                        <img src='https://www.arcgis.com/sharing/rest//content/items/ec179651caf84ab98f3b98934b524ec9/info/thumbnail/ago_downloaded.png' class=\"itemThumbnail\">\n",
       "                       </a>\n",
       "                    </div>\n",
       "\n",
       "                    <div class=\"item_right\"     style=\"float: none; width: auto; overflow: hidden;\">\n",
       "                        <a href='https://www.arcgis.com/home/item.html?id=ec179651caf84ab98f3b98934b524ec9' target='_blank'><b>Rocky Mountain National Park - Bivy</b>\n",
       "                        </a>\n",
       "                        <br/>Rocky Mountain National Park - Bivy  (Public, Open Data)<img src='https://www.arcgis.com/home/js/jsapi/esri/css/images/item_type_icons/featureshosted16.png' style=\"vertical-align:middle;\">Feature Layer Collection by imrgis_nps\n",
       "                        <br/>Last Modified: April 08, 2019\n",
       "                        <br/>0 comments, 178 views\n",
       "                    </div>\n",
       "                </div>\n",
       "                "
      ],
      "text/plain": [
       "<Item title:\"Rocky Mountain National Park - Bivy\" type:Feature Layer Collection owner:imrgis_nps>"
      ]
     },
     "metadata": {},
     "output_type": "display_data"
    },
    {
     "data": {
      "text/html": [
       "<div class=\"item_container\" style=\"height: auto; overflow: hidden; border: 1px solid #cfcfcf; border-radius: 2px; background: #f6fafa; line-height: 1.21429em; padding: 10px;\">\n",
       "                    <div class=\"item_left\" style=\"width: 210px; float: left;\">\n",
       "                       <a href='https://www.arcgis.com/home/item.html?id=d7748a4bbb94489db4b5bbd07b3136a8' target='_blank'>\n",
       "                        <img src='http://static.arcgis.com/images/desktopapp.png' class=\"itemThumbnail\">\n",
       "                       </a>\n",
       "                    </div>\n",
       "\n",
       "                    <div class=\"item_right\"     style=\"float: none; width: auto; overflow: hidden;\">\n",
       "                        <a href='https://www.arcgis.com/home/item.html?id=d7748a4bbb94489db4b5bbd07b3136a8' target='_blank'><b>Rocky Mountain National Park - Bivy Zone</b>\n",
       "                        </a>\n",
       "                        <br/>Rocky Mountain National Park - Bivy Zone  (Public, Open Data)<img src='https://www.arcgis.com/home/js/jsapi/esri/css/images/item_type_icons/featureshosted16.png' style=\"vertical-align:middle;\">Feature Layer Collection by imrgis_nps\n",
       "                        <br/>Last Modified: March 21, 2019\n",
       "                        <br/>0 comments, 59 views\n",
       "                    </div>\n",
       "                </div>\n",
       "                "
      ],
      "text/plain": [
       "<Item title:\"Rocky Mountain National Park - Bivy Zone\" type:Feature Layer Collection owner:imrgis_nps>"
      ]
     },
     "metadata": {},
     "output_type": "display_data"
    },
    {
     "data": {
      "text/html": [
       "<div class=\"item_container\" style=\"height: auto; overflow: hidden; border: 1px solid #cfcfcf; border-radius: 2px; background: #f6fafa; line-height: 1.21429em; padding: 10px;\">\n",
       "                    <div class=\"item_left\" style=\"width: 210px; float: left;\">\n",
       "                       <a href='https://www.arcgis.com/home/item.html?id=fef2e5a88fd742a8bf9a33694c158bad' target='_blank'>\n",
       "                        <img src='http://static.arcgis.com/images/desktopapp.png' class=\"itemThumbnail\">\n",
       "                       </a>\n",
       "                    </div>\n",
       "\n",
       "                    <div class=\"item_right\"     style=\"float: none; width: auto; overflow: hidden;\">\n",
       "                        <a href='https://www.arcgis.com/home/item.html?id=fef2e5a88fd742a8bf9a33694c158bad' target='_blank'><b>Rocky Mountain National Park - Boundary Line</b>\n",
       "                        </a>\n",
       "                        <br/>Rocky Mountain National Park - Boundary Line  (Public, Open Data)<img src='https://www.arcgis.com/home/js/jsapi/esri/css/images/item_type_icons/featureshosted16.png' style=\"vertical-align:middle;\">Feature Layer Collection by imrgis_nps\n",
       "                        <br/>Last Modified: March 21, 2019\n",
       "                        <br/>0 comments, 308 views\n",
       "                    </div>\n",
       "                </div>\n",
       "                "
      ],
      "text/plain": [
       "<Item title:\"Rocky Mountain National Park - Boundary Line\" type:Feature Layer Collection owner:imrgis_nps>"
      ]
     },
     "metadata": {},
     "output_type": "display_data"
    },
    {
     "data": {
      "text/html": [
       "<div class=\"item_container\" style=\"height: auto; overflow: hidden; border: 1px solid #cfcfcf; border-radius: 2px; background: #f6fafa; line-height: 1.21429em; padding: 10px;\">\n",
       "                    <div class=\"item_left\" style=\"width: 210px; float: left;\">\n",
       "                       <a href='https://www.arcgis.com/home/item.html?id=7cb5f22df8c44900a9f6632adb5f96a5' target='_blank'>\n",
       "                        <img src='http://static.arcgis.com/images/desktopapp.png' class=\"itemThumbnail\">\n",
       "                       </a>\n",
       "                    </div>\n",
       "\n",
       "                    <div class=\"item_right\"     style=\"float: none; width: auto; overflow: hidden;\">\n",
       "                        <a href='https://www.arcgis.com/home/item.html?id=7cb5f22df8c44900a9f6632adb5f96a5' target='_blank'><b>Rocky Mountain National Park - Boundary Polygon</b>\n",
       "                        </a>\n",
       "                        <br/>Rocky Mountain National Park - Boundary Polygon  (Public, Open Data)<img src='https://www.arcgis.com/home/js/jsapi/esri/css/images/item_type_icons/featureshosted16.png' style=\"vertical-align:middle;\">Feature Layer Collection by imrgis_nps\n",
       "                        <br/>Last Modified: March 21, 2019\n",
       "                        <br/>0 comments, 993 views\n",
       "                    </div>\n",
       "                </div>\n",
       "                "
      ],
      "text/plain": [
       "<Item title:\"Rocky Mountain National Park - Boundary Polygon\" type:Feature Layer Collection owner:imrgis_nps>"
      ]
     },
     "metadata": {},
     "output_type": "display_data"
    },
    {
     "data": {
      "text/html": [
       "<div class=\"item_container\" style=\"height: auto; overflow: hidden; border: 1px solid #cfcfcf; border-radius: 2px; background: #f6fafa; line-height: 1.21429em; padding: 10px;\">\n",
       "                    <div class=\"item_left\" style=\"width: 210px; float: left;\">\n",
       "                       <a href='https://www.arcgis.com/home/item.html?id=1dab05f699a349cda08f64ab6bc56f6e' target='_blank'>\n",
       "                        <img src='http://static.arcgis.com/images/desktopapp.png' class=\"itemThumbnail\">\n",
       "                       </a>\n",
       "                    </div>\n",
       "\n",
       "                    <div class=\"item_right\"     style=\"float: none; width: auto; overflow: hidden;\">\n",
       "                        <a href='https://www.arcgis.com/home/item.html?id=1dab05f699a349cda08f64ab6bc56f6e' target='_blank'><b>Rocky Mountain National Park - Campground Amenities</b>\n",
       "                        </a>\n",
       "                        <br/>Rocky Mountain National Park - Campground Amenities  (Public, Open Data)<img src='https://www.arcgis.com/home/js/jsapi/esri/css/images/item_type_icons/featureshosted16.png' style=\"vertical-align:middle;\">Feature Layer Collection by imrgis_nps\n",
       "                        <br/>Last Modified: March 21, 2019\n",
       "                        <br/>0 comments, 97 views\n",
       "                    </div>\n",
       "                </div>\n",
       "                "
      ],
      "text/plain": [
       "<Item title:\"Rocky Mountain National Park - Campground Amenities\" type:Feature Layer Collection owner:imrgis_nps>"
      ]
     },
     "metadata": {},
     "output_type": "display_data"
    },
    {
     "data": {
      "text/html": [
       "<div class=\"item_container\" style=\"height: auto; overflow: hidden; border: 1px solid #cfcfcf; border-radius: 2px; background: #f6fafa; line-height: 1.21429em; padding: 10px;\">\n",
       "                    <div class=\"item_left\" style=\"width: 210px; float: left;\">\n",
       "                       <a href='https://www.arcgis.com/home/item.html?id=9658c35d11cc4291bd7c069d8122203e' target='_blank'>\n",
       "                        <img src='https://www.arcgis.com/sharing/rest//content/items/9658c35d11cc4291bd7c069d8122203e/info/thumbnail/ago_downloaded.png' class=\"itemThumbnail\">\n",
       "                       </a>\n",
       "                    </div>\n",
       "\n",
       "                    <div class=\"item_right\"     style=\"float: none; width: auto; overflow: hidden;\">\n",
       "                        <a href='https://www.arcgis.com/home/item.html?id=9658c35d11cc4291bd7c069d8122203e' target='_blank'><b>Rocky Mountain National Park - Camping Zones</b>\n",
       "                        </a>\n",
       "                        <br/>Rocky Mountain National Park - Camping Zones  (Public, Open Data)<img src='https://www.arcgis.com/home/js/jsapi/esri/css/images/item_type_icons/featureshosted16.png' style=\"vertical-align:middle;\">Feature Layer Collection by imrgis_nps\n",
       "                        <br/>Last Modified: October 02, 2019\n",
       "                        <br/>0 comments, 601 views\n",
       "                    </div>\n",
       "                </div>\n",
       "                "
      ],
      "text/plain": [
       "<Item title:\"Rocky Mountain National Park - Camping Zones\" type:Feature Layer Collection owner:imrgis_nps>"
      ]
     },
     "metadata": {},
     "output_type": "display_data"
    },
    {
     "data": {
      "text/html": [
       "<div class=\"item_container\" style=\"height: auto; overflow: hidden; border: 1px solid #cfcfcf; border-radius: 2px; background: #f6fafa; line-height: 1.21429em; padding: 10px;\">\n",
       "                    <div class=\"item_left\" style=\"width: 210px; float: left;\">\n",
       "                       <a href='https://www.arcgis.com/home/item.html?id=9a66fd8d9b38470993b7fedf5e3202a1' target='_blank'>\n",
       "                        <img src='http://static.arcgis.com/images/desktopapp.png' class=\"itemThumbnail\">\n",
       "                       </a>\n",
       "                    </div>\n",
       "\n",
       "                    <div class=\"item_right\"     style=\"float: none; width: auto; overflow: hidden;\">\n",
       "                        <a href='https://www.arcgis.com/home/item.html?id=9a66fd8d9b38470993b7fedf5e3202a1' target='_blank'><b>Rocky Mountain National Park - Campsites Frontcountry</b>\n",
       "                        </a>\n",
       "                        <br/>Rocky Mountain National Park - Campsites Frontcountry  (Public, Open Data)<img src='https://www.arcgis.com/home/js/jsapi/esri/css/images/item_type_icons/featureshosted16.png' style=\"vertical-align:middle;\">Feature Layer Collection by imrgis_nps\n",
       "                        <br/>Last Modified: March 21, 2019\n",
       "                        <br/>0 comments, 293 views\n",
       "                    </div>\n",
       "                </div>\n",
       "                "
      ],
      "text/plain": [
       "<Item title:\"Rocky Mountain National Park - Campsites Frontcountry\" type:Feature Layer Collection owner:imrgis_nps>"
      ]
     },
     "metadata": {},
     "output_type": "display_data"
    },
    {
     "data": {
      "text/html": [
       "<div class=\"item_container\" style=\"height: auto; overflow: hidden; border: 1px solid #cfcfcf; border-radius: 2px; background: #f6fafa; line-height: 1.21429em; padding: 10px;\">\n",
       "                    <div class=\"item_left\" style=\"width: 210px; float: left;\">\n",
       "                       <a href='https://www.arcgis.com/home/item.html?id=914385e84d614834a5dab671f2639e4f' target='_blank'>\n",
       "                        <img src='https://www.arcgis.com/sharing/rest//content/items/914385e84d614834a5dab671f2639e4f/info/thumbnail/ago_downloaded.png' class=\"itemThumbnail\">\n",
       "                       </a>\n",
       "                    </div>\n",
       "\n",
       "                    <div class=\"item_right\"     style=\"float: none; width: auto; overflow: hidden;\">\n",
       "                        <a href='https://www.arcgis.com/home/item.html?id=914385e84d614834a5dab671f2639e4f' target='_blank'><b>Rocky Mountain National Park - Cemeteries</b>\n",
       "                        </a>\n",
       "                        <br/>Rocky Mountain National Park - Cemeteries  (Public, Open Data)<img src='https://www.arcgis.com/home/js/jsapi/esri/css/images/item_type_icons/featureshosted16.png' style=\"vertical-align:middle;\">Feature Layer Collection by imrgis_nps\n",
       "                        <br/>Last Modified: April 08, 2019\n",
       "                        <br/>0 comments, 181 views\n",
       "                    </div>\n",
       "                </div>\n",
       "                "
      ],
      "text/plain": [
       "<Item title:\"Rocky Mountain National Park - Cemeteries\" type:Feature Layer Collection owner:imrgis_nps>"
      ]
     },
     "metadata": {},
     "output_type": "display_data"
    },
    {
     "data": {
      "text/html": [
       "<div class=\"item_container\" style=\"height: auto; overflow: hidden; border: 1px solid #cfcfcf; border-radius: 2px; background: #f6fafa; line-height: 1.21429em; padding: 10px;\">\n",
       "                    <div class=\"item_left\" style=\"width: 210px; float: left;\">\n",
       "                       <a href='https://www.arcgis.com/home/item.html?id=0f200f0ddd2c4aac8dcc8220b0f1a3a8' target='_blank'>\n",
       "                        <img src='http://static.arcgis.com/images/desktopapp.png' class=\"itemThumbnail\">\n",
       "                       </a>\n",
       "                    </div>\n",
       "\n",
       "                    <div class=\"item_right\"     style=\"float: none; width: auto; overflow: hidden;\">\n",
       "                        <a href='https://www.arcgis.com/home/item.html?id=0f200f0ddd2c4aac8dcc8220b0f1a3a8' target='_blank'><b>Rocky Mountain National Park - Cliffs</b>\n",
       "                        </a>\n",
       "                        <br/>Rocky Mountain National Park - Cliffs  (Public, Open Data)<img src='https://www.arcgis.com/home/js/jsapi/esri/css/images/item_type_icons/featureshosted16.png' style=\"vertical-align:middle;\">Feature Layer Collection by imrgis_nps\n",
       "                        <br/>Last Modified: March 20, 2019\n",
       "                        <br/>0 comments, 221 views\n",
       "                    </div>\n",
       "                </div>\n",
       "                "
      ],
      "text/plain": [
       "<Item title:\"Rocky Mountain National Park - Cliffs\" type:Feature Layer Collection owner:imrgis_nps>"
      ]
     },
     "metadata": {},
     "output_type": "display_data"
    },
    {
     "data": {
      "text/html": [
       "<div class=\"item_container\" style=\"height: auto; overflow: hidden; border: 1px solid #cfcfcf; border-radius: 2px; background: #f6fafa; line-height: 1.21429em; padding: 10px;\">\n",
       "                    <div class=\"item_left\" style=\"width: 210px; float: left;\">\n",
       "                       <a href='https://www.arcgis.com/home/item.html?id=9325e471219f4084bb6f446f483068bc' target='_blank'>\n",
       "                        <img src='http://static.arcgis.com/images/desktopapp.png' class=\"itemThumbnail\">\n",
       "                       </a>\n",
       "                    </div>\n",
       "\n",
       "                    <div class=\"item_right\"     style=\"float: none; width: auto; overflow: hidden;\">\n",
       "                        <a href='https://www.arcgis.com/home/item.html?id=9325e471219f4084bb6f446f483068bc' target='_blank'><b>Rocky Mountain National Park - Continental Divide</b>\n",
       "                        </a>\n",
       "                        <br/>Rocky Mountain National Park - Continental Divide  (Public, Open Data)<img src='https://www.arcgis.com/home/js/jsapi/esri/css/images/item_type_icons/featureshosted16.png' style=\"vertical-align:middle;\">Feature Layer Collection by imrgis_nps\n",
       "                        <br/>Last Modified: March 21, 2019\n",
       "                        <br/>0 comments, 331 views\n",
       "                    </div>\n",
       "                </div>\n",
       "                "
      ],
      "text/plain": [
       "<Item title:\"Rocky Mountain National Park - Continental Divide\" type:Feature Layer Collection owner:imrgis_nps>"
      ]
     },
     "metadata": {},
     "output_type": "display_data"
    },
    {
     "data": {
      "text/html": [
       "<div class=\"item_container\" style=\"height: auto; overflow: hidden; border: 1px solid #cfcfcf; border-radius: 2px; background: #f6fafa; line-height: 1.21429em; padding: 10px;\">\n",
       "                    <div class=\"item_left\" style=\"width: 210px; float: left;\">\n",
       "                       <a href='https://www.arcgis.com/home/item.html?id=7b47e8c0525947fa9ca302e831e8212e' target='_blank'>\n",
       "                        <img src='https://www.arcgis.com/sharing/rest//content/items/7b47e8c0525947fa9ca302e831e8212e/info/thumbnail/ago_downloaded.png' class=\"itemThumbnail\">\n",
       "                       </a>\n",
       "                    </div>\n",
       "\n",
       "                    <div class=\"item_right\"     style=\"float: none; width: auto; overflow: hidden;\">\n",
       "                        <a href='https://www.arcgis.com/home/item.html?id=7b47e8c0525947fa9ca302e831e8212e' target='_blank'><b>Rocky Mountain National Park - Dams</b>\n",
       "                        </a>\n",
       "                        <br/>Rocky Mountain National Park - Dams  (Public, Open Data)<img src='https://www.arcgis.com/home/js/jsapi/esri/css/images/item_type_icons/featureshosted16.png' style=\"vertical-align:middle;\">Feature Layer Collection by imrgis_nps\n",
       "                        <br/>Last Modified: April 08, 2019\n",
       "                        <br/>0 comments, 236 views\n",
       "                    </div>\n",
       "                </div>\n",
       "                "
      ],
      "text/plain": [
       "<Item title:\"Rocky Mountain National Park - Dams\" type:Feature Layer Collection owner:imrgis_nps>"
      ]
     },
     "metadata": {},
     "output_type": "display_data"
    },
    {
     "data": {
      "text/html": [
       "<div class=\"item_container\" style=\"height: auto; overflow: hidden; border: 1px solid #cfcfcf; border-radius: 2px; background: #f6fafa; line-height: 1.21429em; padding: 10px;\">\n",
       "                    <div class=\"item_left\" style=\"width: 210px; float: left;\">\n",
       "                       <a href='https://www.arcgis.com/home/item.html?id=655c63f4b96c49c189a2712e759fce59' target='_blank'>\n",
       "                        <img src='https://www.arcgis.com/sharing/rest//content/items/655c63f4b96c49c189a2712e759fce59/info/thumbnail/ago_downloaded.png' class=\"itemThumbnail\">\n",
       "                       </a>\n",
       "                    </div>\n",
       "\n",
       "                    <div class=\"item_right\"     style=\"float: none; width: auto; overflow: hidden;\">\n",
       "                        <a href='https://www.arcgis.com/home/item.html?id=655c63f4b96c49c189a2712e759fce59' target='_blank'><b>Rocky Mountain National Park - Ditches</b>\n",
       "                        </a>\n",
       "                        <br/>Rocky Mountain National Park - Ditches  (Public, Open Data)<img src='https://www.arcgis.com/home/js/jsapi/esri/css/images/item_type_icons/featureshosted16.png' style=\"vertical-align:middle;\">Feature Layer Collection by imrgis_nps\n",
       "                        <br/>Last Modified: April 08, 2019\n",
       "                        <br/>0 comments, 196 views\n",
       "                    </div>\n",
       "                </div>\n",
       "                "
      ],
      "text/plain": [
       "<Item title:\"Rocky Mountain National Park - Ditches\" type:Feature Layer Collection owner:imrgis_nps>"
      ]
     },
     "metadata": {},
     "output_type": "display_data"
    },
    {
     "data": {
      "text/html": [
       "<div class=\"item_container\" style=\"height: auto; overflow: hidden; border: 1px solid #cfcfcf; border-radius: 2px; background: #f6fafa; line-height: 1.21429em; padding: 10px;\">\n",
       "                    <div class=\"item_left\" style=\"width: 210px; float: left;\">\n",
       "                       <a href='https://www.arcgis.com/home/item.html?id=38f530228e5b44b4ab9baf9a9ba3ae42' target='_blank'>\n",
       "                        <img src='http://static.arcgis.com/images/desktopapp.png' class=\"itemThumbnail\">\n",
       "                       </a>\n",
       "                    </div>\n",
       "\n",
       "                    <div class=\"item_right\"     style=\"float: none; width: auto; overflow: hidden;\">\n",
       "                        <a href='https://www.arcgis.com/home/item.html?id=38f530228e5b44b4ab9baf9a9ba3ae42' target='_blank'><b>Rocky Mountain National Park - Ecoregions</b>\n",
       "                        </a>\n",
       "                        <br/>Rocky Mountain National Park - Ecoregions  (Public, Open Data)<img src='https://www.arcgis.com/home/js/jsapi/esri/css/images/item_type_icons/featureshosted16.png' style=\"vertical-align:middle;\">Feature Layer Collection by imrgis_nps\n",
       "                        <br/>Last Modified: March 21, 2019\n",
       "                        <br/>0 comments, 133 views\n",
       "                    </div>\n",
       "                </div>\n",
       "                "
      ],
      "text/plain": [
       "<Item title:\"Rocky Mountain National Park - Ecoregions\" type:Feature Layer Collection owner:imrgis_nps>"
      ]
     },
     "metadata": {},
     "output_type": "display_data"
    },
    {
     "data": {
      "text/html": [
       "<div class=\"item_container\" style=\"height: auto; overflow: hidden; border: 1px solid #cfcfcf; border-radius: 2px; background: #f6fafa; line-height: 1.21429em; padding: 10px;\">\n",
       "                    <div class=\"item_left\" style=\"width: 210px; float: left;\">\n",
       "                       <a href='https://www.arcgis.com/home/item.html?id=ae79bf8a5e7445248b577c549c84bf4d' target='_blank'>\n",
       "                        <img src='https://www.arcgis.com/sharing/rest//content/items/ae79bf8a5e7445248b577c549c84bf4d/info/thumbnail/ago_downloaded.png' class=\"itemThumbnail\">\n",
       "                       </a>\n",
       "                    </div>\n",
       "\n",
       "                    <div class=\"item_right\"     style=\"float: none; width: auto; overflow: hidden;\">\n",
       "                        <a href='https://www.arcgis.com/home/item.html?id=ae79bf8a5e7445248b577c549c84bf4d' target='_blank'><b>Rocky Mountain National Park - Elk Survey Route</b>\n",
       "                        </a>\n",
       "                        <br/>Rocky Mountain National Park - Elk Survey Route  (Public, Open Data)<img src='https://www.arcgis.com/home/js/jsapi/esri/css/images/item_type_icons/featureshosted16.png' style=\"vertical-align:middle;\">Feature Layer Collection by imrgis_nps\n",
       "                        <br/>Last Modified: May 03, 2019\n",
       "                        <br/>0 comments, 241 views\n",
       "                    </div>\n",
       "                </div>\n",
       "                "
      ],
      "text/plain": [
       "<Item title:\"Rocky Mountain National Park - Elk Survey Route\" type:Feature Layer Collection owner:imrgis_nps>"
      ]
     },
     "metadata": {},
     "output_type": "display_data"
    },
    {
     "data": {
      "text/html": [
       "<div class=\"item_container\" style=\"height: auto; overflow: hidden; border: 1px solid #cfcfcf; border-radius: 2px; background: #f6fafa; line-height: 1.21429em; padding: 10px;\">\n",
       "                    <div class=\"item_left\" style=\"width: 210px; float: left;\">\n",
       "                       <a href='https://www.arcgis.com/home/item.html?id=07f92daeff2b4ea1a8905ddda22cc339' target='_blank'>\n",
       "                        <img src='https://www.arcgis.com/sharing/rest//content/items/07f92daeff2b4ea1a8905ddda22cc339/info/thumbnail/ago_downloaded.png' class=\"itemThumbnail\">\n",
       "                       </a>\n",
       "                    </div>\n",
       "\n",
       "                    <div class=\"item_right\"     style=\"float: none; width: auto; overflow: hidden;\">\n",
       "                        <a href='https://www.arcgis.com/home/item.html?id=07f92daeff2b4ea1a8905ddda22cc339' target='_blank'><b>Rocky Mountain National Park - Fire History Recent</b>\n",
       "                        </a>\n",
       "                        <br/>Rocky Mountain National Park - Fire History Recent  (Public, Open Data)<img src='https://www.arcgis.com/home/js/jsapi/esri/css/images/item_type_icons/featureshosted16.png' style=\"vertical-align:middle;\">Feature Layer Collection by imrgis_nps\n",
       "                        <br/>Last Modified: April 08, 2019\n",
       "                        <br/>0 comments, 547 views\n",
       "                    </div>\n",
       "                </div>\n",
       "                "
      ],
      "text/plain": [
       "<Item title:\"Rocky Mountain National Park - Fire History Recent\" type:Feature Layer Collection owner:imrgis_nps>"
      ]
     },
     "metadata": {},
     "output_type": "display_data"
    },
    {
     "data": {
      "text/html": [
       "<div class=\"item_container\" style=\"height: auto; overflow: hidden; border: 1px solid #cfcfcf; border-radius: 2px; background: #f6fafa; line-height: 1.21429em; padding: 10px;\">\n",
       "                    <div class=\"item_left\" style=\"width: 210px; float: left;\">\n",
       "                       <a href='https://www.arcgis.com/home/item.html?id=26239f7addc0405596c5bfce5d5b3942' target='_blank'>\n",
       "                        <img src='http://static.arcgis.com/images/desktopapp.png' class=\"itemThumbnail\">\n",
       "                       </a>\n",
       "                    </div>\n",
       "\n",
       "                    <div class=\"item_right\"     style=\"float: none; width: auto; overflow: hidden;\">\n",
       "                        <a href='https://www.arcgis.com/home/item.html?id=26239f7addc0405596c5bfce5d5b3942' target='_blank'><b>Rocky Mountain National Park - Frontcountry Place Names</b>\n",
       "                        </a>\n",
       "                        <br/>Rocky Mountain National Park - Frontcountry Place Names  (Public, Open Data)<img src='https://www.arcgis.com/home/js/jsapi/esri/css/images/item_type_icons/featureshosted16.png' style=\"vertical-align:middle;\">Feature Layer Collection by imrgis_nps\n",
       "                        <br/>Last Modified: March 21, 2019\n",
       "                        <br/>0 comments, 140 views\n",
       "                    </div>\n",
       "                </div>\n",
       "                "
      ],
      "text/plain": [
       "<Item title:\"Rocky Mountain National Park - Frontcountry Place Names\" type:Feature Layer Collection owner:imrgis_nps>"
      ]
     },
     "metadata": {},
     "output_type": "display_data"
    },
    {
     "data": {
      "text/html": [
       "<div class=\"item_container\" style=\"height: auto; overflow: hidden; border: 1px solid #cfcfcf; border-radius: 2px; background: #f6fafa; line-height: 1.21429em; padding: 10px;\">\n",
       "                    <div class=\"item_left\" style=\"width: 210px; float: left;\">\n",
       "                       <a href='https://www.arcgis.com/home/item.html?id=acafc69c0d9d41afa62b029c4828e575' target='_blank'>\n",
       "                        <img src='http://static.arcgis.com/images/desktopapp.png' class=\"itemThumbnail\">\n",
       "                       </a>\n",
       "                    </div>\n",
       "\n",
       "                    <div class=\"item_right\"     style=\"float: none; width: auto; overflow: hidden;\">\n",
       "                        <a href='https://www.arcgis.com/home/item.html?id=acafc69c0d9d41afa62b029c4828e575' target='_blank'><b>Rocky Mountain National Park - Geology Units</b>\n",
       "                        </a>\n",
       "                        <br/>Rocky Mountain National Park - Geology Units  (Public, Open Data)<img src='https://www.arcgis.com/home/js/jsapi/esri/css/images/item_type_icons/featureshosted16.png' style=\"vertical-align:middle;\">Feature Layer Collection by imrgis_nps\n",
       "                        <br/>Last Modified: March 21, 2019\n",
       "                        <br/>0 comments, 236 views\n",
       "                    </div>\n",
       "                </div>\n",
       "                "
      ],
      "text/plain": [
       "<Item title:\"Rocky Mountain National Park - Geology Units\" type:Feature Layer Collection owner:imrgis_nps>"
      ]
     },
     "metadata": {},
     "output_type": "display_data"
    },
    {
     "data": {
      "text/html": [
       "<div class=\"item_container\" style=\"height: auto; overflow: hidden; border: 1px solid #cfcfcf; border-radius: 2px; background: #f6fafa; line-height: 1.21429em; padding: 10px;\">\n",
       "                    <div class=\"item_left\" style=\"width: 210px; float: left;\">\n",
       "                       <a href='https://www.arcgis.com/home/item.html?id=dc3673f9c2064d85b20de01032d13aa2' target='_blank'>\n",
       "                        <img src='https://www.arcgis.com/sharing/rest//content/items/dc3673f9c2064d85b20de01032d13aa2/info/thumbnail/ago_downloaded.png' class=\"itemThumbnail\">\n",
       "                       </a>\n",
       "                    </div>\n",
       "\n",
       "                    <div class=\"item_right\"     style=\"float: none; width: auto; overflow: hidden;\">\n",
       "                        <a href='https://www.arcgis.com/home/item.html?id=dc3673f9c2064d85b20de01032d13aa2' target='_blank'><b>Rocky Mountain National Park - Glaciers</b>\n",
       "                        </a>\n",
       "                        <br/>Rocky Mountain National Park - Glaciers  (Public, Open Data)<img src='https://www.arcgis.com/home/js/jsapi/esri/css/images/item_type_icons/featureshosted16.png' style=\"vertical-align:middle;\">Feature Layer Collection by imrgis_nps\n",
       "                        <br/>Last Modified: April 08, 2019\n",
       "                        <br/>0 comments, 287 views\n",
       "                    </div>\n",
       "                </div>\n",
       "                "
      ],
      "text/plain": [
       "<Item title:\"Rocky Mountain National Park - Glaciers\" type:Feature Layer Collection owner:imrgis_nps>"
      ]
     },
     "metadata": {},
     "output_type": "display_data"
    },
    {
     "data": {
      "text/html": [
       "<div class=\"item_container\" style=\"height: auto; overflow: hidden; border: 1px solid #cfcfcf; border-radius: 2px; background: #f6fafa; line-height: 1.21429em; padding: 10px;\">\n",
       "                    <div class=\"item_left\" style=\"width: 210px; float: left;\">\n",
       "                       <a href='https://www.arcgis.com/home/item.html?id=acbd485d51944e7a9435d4cc5ba51cca' target='_blank'>\n",
       "                        <img src='https://www.arcgis.com/sharing/rest//content/items/acbd485d51944e7a9435d4cc5ba51cca/info/thumbnail/ago_downloaded.png' class=\"itemThumbnail\">\n",
       "                       </a>\n",
       "                    </div>\n",
       "\n",
       "                    <div class=\"item_right\"     style=\"float: none; width: auto; overflow: hidden;\">\n",
       "                        <a href='https://www.arcgis.com/home/item.html?id=acbd485d51944e7a9435d4cc5ba51cca' target='_blank'><b>Rocky Mountain National Park - Glaciers 26000 yrs BP</b>\n",
       "                        </a>\n",
       "                        <br/>Rocky Mountain National Park - Glaciers 26000 yrs BP  (Public, Open Data)<img src='https://www.arcgis.com/home/js/jsapi/esri/css/images/item_type_icons/featureshosted16.png' style=\"vertical-align:middle;\">Feature Layer Collection by imrgis_nps\n",
       "                        <br/>Last Modified: April 08, 2019\n",
       "                        <br/>0 comments, 211 views\n",
       "                    </div>\n",
       "                </div>\n",
       "                "
      ],
      "text/plain": [
       "<Item title:\"Rocky Mountain National Park - Glaciers 26000 yrs BP\" type:Feature Layer Collection owner:imrgis_nps>"
      ]
     },
     "metadata": {},
     "output_type": "display_data"
    },
    {
     "data": {
      "text/html": [
       "<div class=\"item_container\" style=\"height: auto; overflow: hidden; border: 1px solid #cfcfcf; border-radius: 2px; background: #f6fafa; line-height: 1.21429em; padding: 10px;\">\n",
       "                    <div class=\"item_left\" style=\"width: 210px; float: left;\">\n",
       "                       <a href='https://www.arcgis.com/home/item.html?id=d82c46f50e3d401aa0754892ef4f356a' target='_blank'>\n",
       "                        <img src='https://www.arcgis.com/sharing/rest//content/items/d82c46f50e3d401aa0754892ef4f356a/info/thumbnail/ago_downloaded.png' class=\"itemThumbnail\">\n",
       "                       </a>\n",
       "                    </div>\n",
       "\n",
       "                    <div class=\"item_right\"     style=\"float: none; width: auto; overflow: hidden;\">\n",
       "                        <a href='https://www.arcgis.com/home/item.html?id=d82c46f50e3d401aa0754892ef4f356a' target='_blank'><b>Rocky Mountain National Park - Hidden Valley Ski Runs 1992</b>\n",
       "                        </a>\n",
       "                        <br/>Rocky Mountain National Park - Hidden Valley Ski Runs 1992  (Public, Open Data)<img src='https://www.arcgis.com/home/js/jsapi/esri/css/images/item_type_icons/featureshosted16.png' style=\"vertical-align:middle;\">Feature Layer Collection by imrgis_nps\n",
       "                        <br/>Last Modified: March 21, 2019\n",
       "                        <br/>0 comments, 97 views\n",
       "                    </div>\n",
       "                </div>\n",
       "                "
      ],
      "text/plain": [
       "<Item title:\"Rocky Mountain National Park - Hidden Valley Ski Runs 1992\" type:Feature Layer Collection owner:imrgis_nps>"
      ]
     },
     "metadata": {},
     "output_type": "display_data"
    },
    {
     "data": {
      "text/html": [
       "<div class=\"item_container\" style=\"height: auto; overflow: hidden; border: 1px solid #cfcfcf; border-radius: 2px; background: #f6fafa; line-height: 1.21429em; padding: 10px;\">\n",
       "                    <div class=\"item_left\" style=\"width: 210px; float: left;\">\n",
       "                       <a href='https://www.arcgis.com/home/item.html?id=44118635e6454eec81c5cf3c0ca790af' target='_blank'>\n",
       "                        <img src='http://static.arcgis.com/images/desktopapp.png' class=\"itemThumbnail\">\n",
       "                       </a>\n",
       "                    </div>\n",
       "\n",
       "                    <div class=\"item_right\"     style=\"float: none; width: auto; overflow: hidden;\">\n",
       "                        <a href='https://www.arcgis.com/home/item.html?id=44118635e6454eec81c5cf3c0ca790af' target='_blank'><b>Rocky Mountain National Park - Highways CO</b>\n",
       "                        </a>\n",
       "                        <br/>Rocky Mountain National Park - Highways CO  (Public, Open Data)<img src='https://www.arcgis.com/home/js/jsapi/esri/css/images/item_type_icons/featureshosted16.png' style=\"vertical-align:middle;\">Feature Layer Collection by imrgis_nps\n",
       "                        <br/>Last Modified: March 21, 2019\n",
       "                        <br/>0 comments, 168 views\n",
       "                    </div>\n",
       "                </div>\n",
       "                "
      ],
      "text/plain": [
       "<Item title:\"Rocky Mountain National Park - Highways CO\" type:Feature Layer Collection owner:imrgis_nps>"
      ]
     },
     "metadata": {},
     "output_type": "display_data"
    },
    {
     "data": {
      "text/html": [
       "<div class=\"item_container\" style=\"height: auto; overflow: hidden; border: 1px solid #cfcfcf; border-radius: 2px; background: #f6fafa; line-height: 1.21429em; padding: 10px;\">\n",
       "                    <div class=\"item_left\" style=\"width: 210px; float: left;\">\n",
       "                       <a href='https://www.arcgis.com/home/item.html?id=256661a6c179484893f69063633c6255' target='_blank'>\n",
       "                        <img src='http://static.arcgis.com/images/desktopapp.png' class=\"itemThumbnail\">\n",
       "                       </a>\n",
       "                    </div>\n",
       "\n",
       "                    <div class=\"item_right\"     style=\"float: none; width: auto; overflow: hidden;\">\n",
       "                        <a href='https://www.arcgis.com/home/item.html?id=256661a6c179484893f69063633c6255' target='_blank'><b>Rocky Mountain National Park - HUC12 ROMO</b>\n",
       "                        </a>\n",
       "                        <br/>Rocky Mountain National Park - HUC12 ROMO  (Public, Open Data)<img src='https://www.arcgis.com/home/js/jsapi/esri/css/images/item_type_icons/featureshosted16.png' style=\"vertical-align:middle;\">Feature Layer Collection by imrgis_nps\n",
       "                        <br/>Last Modified: March 21, 2019\n",
       "                        <br/>0 comments, 141 views\n",
       "                    </div>\n",
       "                </div>\n",
       "                "
      ],
      "text/plain": [
       "<Item title:\"Rocky Mountain National Park - HUC12 ROMO\" type:Feature Layer Collection owner:imrgis_nps>"
      ]
     },
     "metadata": {},
     "output_type": "display_data"
    },
    {
     "data": {
      "text/html": [
       "<div class=\"item_container\" style=\"height: auto; overflow: hidden; border: 1px solid #cfcfcf; border-radius: 2px; background: #f6fafa; line-height: 1.21429em; padding: 10px;\">\n",
       "                    <div class=\"item_left\" style=\"width: 210px; float: left;\">\n",
       "                       <a href='https://www.arcgis.com/home/item.html?id=bdde6587b47444169dac1b3094835626' target='_blank'>\n",
       "                        <img src='https://www.arcgis.com/sharing/rest//content/items/bdde6587b47444169dac1b3094835626/info/thumbnail/ago_downloaded.png' class=\"itemThumbnail\">\n",
       "                       </a>\n",
       "                    </div>\n",
       "\n",
       "                    <div class=\"item_right\"     style=\"float: none; width: auto; overflow: hidden;\">\n",
       "                        <a href='https://www.arcgis.com/home/item.html?id=bdde6587b47444169dac1b3094835626' target='_blank'><b>Rocky Mountain National Park - NGS Control Points</b>\n",
       "                        </a>\n",
       "                        <br/>Rocky Mountain National Park - NGS Control Points<img src='https://www.arcgis.com/home/js/jsapi/esri/css/images/item_type_icons/featureshosted16.png' style=\"vertical-align:middle;\">Feature Layer Collection by imrgis_nps\n",
       "                        <br/>Last Modified: March 19, 2019\n",
       "                        <br/>0 comments, 112 views\n",
       "                    </div>\n",
       "                </div>\n",
       "                "
      ],
      "text/plain": [
       "<Item title:\"Rocky Mountain National Park - NGS Control Points\" type:Feature Layer Collection owner:imrgis_nps>"
      ]
     },
     "metadata": {},
     "output_type": "display_data"
    },
    {
     "data": {
      "text/html": [
       "<div class=\"item_container\" style=\"height: auto; overflow: hidden; border: 1px solid #cfcfcf; border-radius: 2px; background: #f6fafa; line-height: 1.21429em; padding: 10px;\">\n",
       "                    <div class=\"item_left\" style=\"width: 210px; float: left;\">\n",
       "                       <a href='https://www.arcgis.com/home/item.html?id=650b9574ef0548f2bfd22455aea92c28' target='_blank'>\n",
       "                        <img src='https://www.arcgis.com/sharing/rest//content/items/650b9574ef0548f2bfd22455aea92c28/info/thumbnail/ago_downloaded.png' class=\"itemThumbnail\">\n",
       "                       </a>\n",
       "                    </div>\n",
       "\n",
       "                    <div class=\"item_right\"     style=\"float: none; width: auto; overflow: hidden;\">\n",
       "                        <a href='https://www.arcgis.com/home/item.html?id=650b9574ef0548f2bfd22455aea92c28' target='_blank'><b>Rocky Mountain National Park - NonPark Buildings</b>\n",
       "                        </a>\n",
       "                        <br/>Rocky Mountain National Park - NonPark Buildings  (Public, Open Data)<img src='https://www.arcgis.com/home/js/jsapi/esri/css/images/item_type_icons/featureshosted16.png' style=\"vertical-align:middle;\">Feature Layer Collection by imrgis_nps\n",
       "                        <br/>Last Modified: April 08, 2019\n",
       "                        <br/>0 comments, 269 views\n",
       "                    </div>\n",
       "                </div>\n",
       "                "
      ],
      "text/plain": [
       "<Item title:\"Rocky Mountain National Park - NonPark Buildings\" type:Feature Layer Collection owner:imrgis_nps>"
      ]
     },
     "metadata": {},
     "output_type": "display_data"
    },
    {
     "data": {
      "text/html": [
       "<div class=\"item_container\" style=\"height: auto; overflow: hidden; border: 1px solid #cfcfcf; border-radius: 2px; background: #f6fafa; line-height: 1.21429em; padding: 10px;\">\n",
       "                    <div class=\"item_left\" style=\"width: 210px; float: left;\">\n",
       "                       <a href='https://www.arcgis.com/home/item.html?id=bf0e151b754a432bba068cfa527792e3' target='_blank'>\n",
       "                        <img src='http://static.arcgis.com/images/desktopapp.png' class=\"itemThumbnail\">\n",
       "                       </a>\n",
       "                    </div>\n",
       "\n",
       "                    <div class=\"item_right\"     style=\"float: none; width: auto; overflow: hidden;\">\n",
       "                        <a href='https://www.arcgis.com/home/item.html?id=bf0e151b754a432bba068cfa527792e3' target='_blank'><b>Rocky Mountain National Park - One Mile Beyond Road</b>\n",
       "                        </a>\n",
       "                        <br/>Rocky Mountain National Park - One Mile Beyond Road  (Public, Open Data)<img src='https://www.arcgis.com/home/js/jsapi/esri/css/images/item_type_icons/featureshosted16.png' style=\"vertical-align:middle;\">Feature Layer Collection by imrgis_nps\n",
       "                        <br/>Last Modified: March 21, 2019\n",
       "                        <br/>0 comments, 65 views\n",
       "                    </div>\n",
       "                </div>\n",
       "                "
      ],
      "text/plain": [
       "<Item title:\"Rocky Mountain National Park - One Mile Beyond Road\" type:Feature Layer Collection owner:imrgis_nps>"
      ]
     },
     "metadata": {},
     "output_type": "display_data"
    },
    {
     "data": {
      "text/html": [
       "<div class=\"item_container\" style=\"height: auto; overflow: hidden; border: 1px solid #cfcfcf; border-radius: 2px; background: #f6fafa; line-height: 1.21429em; padding: 10px;\">\n",
       "                    <div class=\"item_left\" style=\"width: 210px; float: left;\">\n",
       "                       <a href='https://www.arcgis.com/home/item.html?id=3b8f16a23f9e482a87a5132712ca381d' target='_blank'>\n",
       "                        <img src='http://static.arcgis.com/images/desktopapp.png' class=\"itemThumbnail\">\n",
       "                       </a>\n",
       "                    </div>\n",
       "\n",
       "                    <div class=\"item_right\"     style=\"float: none; width: auto; overflow: hidden;\">\n",
       "                        <a href='https://www.arcgis.com/home/item.html?id=3b8f16a23f9e482a87a5132712ca381d' target='_blank'><b>Rocky Mountain National Park - One Mile Buffer Along Roads</b>\n",
       "                        </a>\n",
       "                        <br/>Rocky Mountain National Park - One Mile Buffer Along Roads  (Public, Open Data)<img src='https://www.arcgis.com/home/js/jsapi/esri/css/images/item_type_icons/featureshosted16.png' style=\"vertical-align:middle;\">Feature Layer Collection by imrgis_nps\n",
       "                        <br/>Last Modified: March 21, 2019\n",
       "                        <br/>0 comments, 84 views\n",
       "                    </div>\n",
       "                </div>\n",
       "                "
      ],
      "text/plain": [
       "<Item title:\"Rocky Mountain National Park - One Mile Buffer Along Roads\" type:Feature Layer Collection owner:imrgis_nps>"
      ]
     },
     "metadata": {},
     "output_type": "display_data"
    },
    {
     "data": {
      "text/html": [
       "<div class=\"item_container\" style=\"height: auto; overflow: hidden; border: 1px solid #cfcfcf; border-radius: 2px; background: #f6fafa; line-height: 1.21429em; padding: 10px;\">\n",
       "                    <div class=\"item_left\" style=\"width: 210px; float: left;\">\n",
       "                       <a href='https://www.arcgis.com/home/item.html?id=d34284bb666244a587789bd6ed70624d' target='_blank'>\n",
       "                        <img src='https://www.arcgis.com/sharing/rest//content/items/d34284bb666244a587789bd6ed70624d/info/thumbnail/ago_downloaded.png' class=\"itemThumbnail\">\n",
       "                       </a>\n",
       "                    </div>\n",
       "\n",
       "                    <div class=\"item_right\"     style=\"float: none; width: auto; overflow: hidden;\">\n",
       "                        <a href='https://www.arcgis.com/home/item.html?id=d34284bb666244a587789bd6ed70624d' target='_blank'><b>Rocky Mountain National Park - Park Buildings</b>\n",
       "                        </a>\n",
       "                        <br/>Rocky Mountain National Park - Park Buildings  (Public, Open Data)<img src='https://www.arcgis.com/home/js/jsapi/esri/css/images/item_type_icons/featureshosted16.png' style=\"vertical-align:middle;\">Feature Layer Collection by imrgis_nps\n",
       "                        <br/>Last Modified: April 15, 2020\n",
       "                        <br/>0 comments, 388 views\n",
       "                    </div>\n",
       "                </div>\n",
       "                "
      ],
      "text/plain": [
       "<Item title:\"Rocky Mountain National Park - Park Buildings\" type:Feature Layer Collection owner:imrgis_nps>"
      ]
     },
     "metadata": {},
     "output_type": "display_data"
    },
    {
     "data": {
      "text/html": [
       "<div class=\"item_container\" style=\"height: auto; overflow: hidden; border: 1px solid #cfcfcf; border-radius: 2px; background: #f6fafa; line-height: 1.21429em; padding: 10px;\">\n",
       "                    <div class=\"item_left\" style=\"width: 210px; float: left;\">\n",
       "                       <a href='https://www.arcgis.com/home/item.html?id=a07b86723bc04afa8997523b1d628986' target='_blank'>\n",
       "                        <img src='http://static.arcgis.com/images/desktopapp.png' class=\"itemThumbnail\">\n",
       "                       </a>\n",
       "                    </div>\n",
       "\n",
       "                    <div class=\"item_right\"     style=\"float: none; width: auto; overflow: hidden;\">\n",
       "                        <a href='https://www.arcgis.com/home/item.html?id=a07b86723bc04afa8997523b1d628986' target='_blank'><b>Rocky Mountain National Park - Park Neighbors Generalized</b>\n",
       "                        </a>\n",
       "                        <br/>Rocky Mountain National Park - Park Neighbors Generalized  (Public, Open Data)<img src='https://www.arcgis.com/home/js/jsapi/esri/css/images/item_type_icons/featureshosted16.png' style=\"vertical-align:middle;\">Feature Layer Collection by imrgis_nps\n",
       "                        <br/>Last Modified: March 21, 2019\n",
       "                        <br/>0 comments, 157 views\n",
       "                    </div>\n",
       "                </div>\n",
       "                "
      ],
      "text/plain": [
       "<Item title:\"Rocky Mountain National Park - Park Neighbors Generalized\" type:Feature Layer Collection owner:imrgis_nps>"
      ]
     },
     "metadata": {},
     "output_type": "display_data"
    },
    {
     "data": {
      "text/html": [
       "<div class=\"item_container\" style=\"height: auto; overflow: hidden; border: 1px solid #cfcfcf; border-radius: 2px; background: #f6fafa; line-height: 1.21429em; padding: 10px;\">\n",
       "                    <div class=\"item_left\" style=\"width: 210px; float: left;\">\n",
       "                       <a href='https://www.arcgis.com/home/item.html?id=21126c9ed0614f8bbfce30ee7708f3a8' target='_blank'>\n",
       "                        <img src='https://www.arcgis.com/sharing/rest//content/items/21126c9ed0614f8bbfce30ee7708f3a8/info/thumbnail/ago_downloaded.png' class=\"itemThumbnail\">\n",
       "                       </a>\n",
       "                    </div>\n",
       "\n",
       "                    <div class=\"item_right\"     style=\"float: none; width: auto; overflow: hidden;\">\n",
       "                        <a href='https://www.arcgis.com/home/item.html?id=21126c9ed0614f8bbfce30ee7708f3a8' target='_blank'><b>Rocky Mountain National Park - Park Roads</b>\n",
       "                        </a>\n",
       "                        <br/>Rocky Mountain National Park - Park Roads  (Public, Open Data)<img src='https://www.arcgis.com/home/js/jsapi/esri/css/images/item_type_icons/featureshosted16.png' style=\"vertical-align:middle;\">Feature Layer Collection by imrgis_nps\n",
       "                        <br/>Last Modified: May 02, 2019\n",
       "                        <br/>0 comments, 247,200 views\n",
       "                    </div>\n",
       "                </div>\n",
       "                "
      ],
      "text/plain": [
       "<Item title:\"Rocky Mountain National Park - Park Roads\" type:Feature Layer Collection owner:imrgis_nps>"
      ]
     },
     "metadata": {},
     "output_type": "display_data"
    },
    {
     "data": {
      "text/html": [
       "<div class=\"item_container\" style=\"height: auto; overflow: hidden; border: 1px solid #cfcfcf; border-radius: 2px; background: #f6fafa; line-height: 1.21429em; padding: 10px;\">\n",
       "                    <div class=\"item_left\" style=\"width: 210px; float: left;\">\n",
       "                       <a href='https://www.arcgis.com/home/item.html?id=9d9cf5092f5347ccab9e4f9c0d107758' target='_blank'>\n",
       "                        <img src='http://static.arcgis.com/images/desktopapp.png' class=\"itemThumbnail\">\n",
       "                       </a>\n",
       "                    </div>\n",
       "\n",
       "                    <div class=\"item_right\"     style=\"float: none; width: auto; overflow: hidden;\">\n",
       "                        <a href='https://www.arcgis.com/home/item.html?id=9d9cf5092f5347ccab9e4f9c0d107758' target='_blank'><b>Rocky Mountain National Park - Parking Lots</b>\n",
       "                        </a>\n",
       "                        <br/>Rocky Mountain National Park - Parking Lots  (Public, Open Data)<img src='https://www.arcgis.com/home/js/jsapi/esri/css/images/item_type_icons/featureshosted16.png' style=\"vertical-align:middle;\">Feature Layer Collection by imrgis_nps\n",
       "                        <br/>Last Modified: March 21, 2019\n",
       "                        <br/>0 comments, 279 views\n",
       "                    </div>\n",
       "                </div>\n",
       "                "
      ],
      "text/plain": [
       "<Item title:\"Rocky Mountain National Park - Parking Lots\" type:Feature Layer Collection owner:imrgis_nps>"
      ]
     },
     "metadata": {},
     "output_type": "display_data"
    },
    {
     "data": {
      "text/html": [
       "<div class=\"item_container\" style=\"height: auto; overflow: hidden; border: 1px solid #cfcfcf; border-radius: 2px; background: #f6fafa; line-height: 1.21429em; padding: 10px;\">\n",
       "                    <div class=\"item_left\" style=\"width: 210px; float: left;\">\n",
       "                       <a href='https://www.arcgis.com/home/item.html?id=65a8a8cf7fce438e9d612f2e8582f22b' target='_blank'>\n",
       "                        <img src='http://static.arcgis.com/images/desktopapp.png' class=\"itemThumbnail\">\n",
       "                       </a>\n",
       "                    </div>\n",
       "\n",
       "                    <div class=\"item_right\"     style=\"float: none; width: auto; overflow: hidden;\">\n",
       "                        <a href='https://www.arcgis.com/home/item.html?id=65a8a8cf7fce438e9d612f2e8582f22b' target='_blank'><b>Rocky Mountain National Park - ParkingLots pt</b>\n",
       "                        </a>\n",
       "                        <br/>Rocky Mountain National Park - ParkingLots pt  (Public, Open Data)<img src='https://www.arcgis.com/home/js/jsapi/esri/css/images/item_type_icons/featureshosted16.png' style=\"vertical-align:middle;\">Feature Layer Collection by imrgis_nps\n",
       "                        <br/>Last Modified: March 18, 2019\n",
       "                        <br/>0 comments, 148 views\n",
       "                    </div>\n",
       "                </div>\n",
       "                "
      ],
      "text/plain": [
       "<Item title:\"Rocky Mountain National Park - ParkingLots pt\" type:Feature Layer Collection owner:imrgis_nps>"
      ]
     },
     "metadata": {},
     "output_type": "display_data"
    },
    {
     "data": {
      "text/html": [
       "<div class=\"item_container\" style=\"height: auto; overflow: hidden; border: 1px solid #cfcfcf; border-radius: 2px; background: #f6fafa; line-height: 1.21429em; padding: 10px;\">\n",
       "                    <div class=\"item_left\" style=\"width: 210px; float: left;\">\n",
       "                       <a href='https://www.arcgis.com/home/item.html?id=f8e383bb36044bbfa2c4c9480497d282' target='_blank'>\n",
       "                        <img src='http://static.arcgis.com/images/desktopapp.png' class=\"itemThumbnail\">\n",
       "                       </a>\n",
       "                    </div>\n",
       "\n",
       "                    <div class=\"item_right\"     style=\"float: none; width: auto; overflow: hidden;\">\n",
       "                        <a href='https://www.arcgis.com/home/item.html?id=f8e383bb36044bbfa2c4c9480497d282' target='_blank'><b>Rocky Mountain National Park - Passes</b>\n",
       "                        </a>\n",
       "                        <br/>Rocky Mountain National Park - Passes  (Public, Open Data)<img src='https://www.arcgis.com/home/js/jsapi/esri/css/images/item_type_icons/featureshosted16.png' style=\"vertical-align:middle;\">Feature Layer Collection by imrgis_nps\n",
       "                        <br/>Last Modified: March 20, 2019\n",
       "                        <br/>0 comments, 80 views\n",
       "                    </div>\n",
       "                </div>\n",
       "                "
      ],
      "text/plain": [
       "<Item title:\"Rocky Mountain National Park - Passes\" type:Feature Layer Collection owner:imrgis_nps>"
      ]
     },
     "metadata": {},
     "output_type": "display_data"
    },
    {
     "data": {
      "text/html": [
       "<div class=\"item_container\" style=\"height: auto; overflow: hidden; border: 1px solid #cfcfcf; border-radius: 2px; background: #f6fafa; line-height: 1.21429em; padding: 10px;\">\n",
       "                    <div class=\"item_left\" style=\"width: 210px; float: left;\">\n",
       "                       <a href='https://www.arcgis.com/home/item.html?id=c8622a4587a54aa599359ba7c5cb083e' target='_blank'>\n",
       "                        <img src='http://static.arcgis.com/images/desktopapp.png' class=\"itemThumbnail\">\n",
       "                       </a>\n",
       "                    </div>\n",
       "\n",
       "                    <div class=\"item_right\"     style=\"float: none; width: auto; overflow: hidden;\">\n",
       "                        <a href='https://www.arcgis.com/home/item.html?id=c8622a4587a54aa599359ba7c5cb083e' target='_blank'><b>Rocky Mountain National Park - Picnic Areas</b>\n",
       "                        </a>\n",
       "                        <br/>Rocky Mountain National Park - Picnic Areas  (Public, Open Data)<img src='https://www.arcgis.com/home/js/jsapi/esri/css/images/item_type_icons/featureshosted16.png' style=\"vertical-align:middle;\">Feature Layer Collection by imrgis_nps\n",
       "                        <br/>Last Modified: March 20, 2019\n",
       "                        <br/>0 comments, 257 views\n",
       "                    </div>\n",
       "                </div>\n",
       "                "
      ],
      "text/plain": [
       "<Item title:\"Rocky Mountain National Park - Picnic Areas\" type:Feature Layer Collection owner:imrgis_nps>"
      ]
     },
     "metadata": {},
     "output_type": "display_data"
    },
    {
     "data": {
      "text/html": [
       "<div class=\"item_container\" style=\"height: auto; overflow: hidden; border: 1px solid #cfcfcf; border-radius: 2px; background: #f6fafa; line-height: 1.21429em; padding: 10px;\">\n",
       "                    <div class=\"item_left\" style=\"width: 210px; float: left;\">\n",
       "                       <a href='https://www.arcgis.com/home/item.html?id=b310524336094da381fc2089c6137be2' target='_blank'>\n",
       "                        <img src='http://static.arcgis.com/images/desktopapp.png' class=\"itemThumbnail\">\n",
       "                       </a>\n",
       "                    </div>\n",
       "\n",
       "                    <div class=\"item_right\"     style=\"float: none; width: auto; overflow: hidden;\">\n",
       "                        <a href='https://www.arcgis.com/home/item.html?id=b310524336094da381fc2089c6137be2' target='_blank'><b>Rocky Mountain National Park - Pillars</b>\n",
       "                        </a>\n",
       "                        <br/>Rocky Mountain National Park - Pillars  (Public, Open Data)<img src='https://www.arcgis.com/home/js/jsapi/esri/css/images/item_type_icons/featureshosted16.png' style=\"vertical-align:middle;\">Feature Layer Collection by imrgis_nps\n",
       "                        <br/>Last Modified: March 20, 2019\n",
       "                        <br/>0 comments, 178 views\n",
       "                    </div>\n",
       "                </div>\n",
       "                "
      ],
      "text/plain": [
       "<Item title:\"Rocky Mountain National Park - Pillars\" type:Feature Layer Collection owner:imrgis_nps>"
      ]
     },
     "metadata": {},
     "output_type": "display_data"
    },
    {
     "data": {
      "text/html": [
       "<div class=\"item_container\" style=\"height: auto; overflow: hidden; border: 1px solid #cfcfcf; border-radius: 2px; background: #f6fafa; line-height: 1.21429em; padding: 10px;\">\n",
       "                    <div class=\"item_left\" style=\"width: 210px; float: left;\">\n",
       "                       <a href='https://www.arcgis.com/home/item.html?id=e532ee96a80c43b5af432e71c80fc92b' target='_blank'>\n",
       "                        <img src='http://static.arcgis.com/images/desktopapp.png' class=\"itemThumbnail\">\n",
       "                       </a>\n",
       "                    </div>\n",
       "\n",
       "                    <div class=\"item_right\"     style=\"float: none; width: auto; overflow: hidden;\">\n",
       "                        <a href='https://www.arcgis.com/home/item.html?id=e532ee96a80c43b5af432e71c80fc92b' target='_blank'><b>Rocky Mountain National Park - Quads ROMO Vicinity</b>\n",
       "                        </a>\n",
       "                        <br/>Rocky Mountain National Park - Quads ROMO Vicinity  (Public, Open Data)<img src='https://www.arcgis.com/home/js/jsapi/esri/css/images/item_type_icons/featureshosted16.png' style=\"vertical-align:middle;\">Feature Layer Collection by imrgis_nps\n",
       "                        <br/>Last Modified: March 21, 2019\n",
       "                        <br/>0 comments, 143 views\n",
       "                    </div>\n",
       "                </div>\n",
       "                "
      ],
      "text/plain": [
       "<Item title:\"Rocky Mountain National Park - Quads ROMO Vicinity\" type:Feature Layer Collection owner:imrgis_nps>"
      ]
     },
     "metadata": {},
     "output_type": "display_data"
    },
    {
     "data": {
      "text/html": [
       "<div class=\"item_container\" style=\"height: auto; overflow: hidden; border: 1px solid #cfcfcf; border-radius: 2px; background: #f6fafa; line-height: 1.21429em; padding: 10px;\">\n",
       "                    <div class=\"item_left\" style=\"width: 210px; float: left;\">\n",
       "                       <a href='https://www.arcgis.com/home/item.html?id=c12a3c76d51140e09bef4056f4ac2635' target='_blank'>\n",
       "                        <img src='http://static.arcgis.com/images/desktopapp.png' class=\"itemThumbnail\">\n",
       "                       </a>\n",
       "                    </div>\n",
       "\n",
       "                    <div class=\"item_right\"     style=\"float: none; width: auto; overflow: hidden;\">\n",
       "                        <a href='https://www.arcgis.com/home/item.html?id=c12a3c76d51140e09bef4056f4ac2635' target='_blank'><b>Rocky Mountain National Park - Radio Coverage</b>\n",
       "                        </a>\n",
       "                        <br/>Rocky Mountain National Park - Radio Coverage  (Public, Open Data)<img src='https://www.arcgis.com/home/js/jsapi/esri/css/images/item_type_icons/featureshosted16.png' style=\"vertical-align:middle;\">Feature Layer Collection by imrgis_nps\n",
       "                        <br/>Last Modified: March 21, 2019\n",
       "                        <br/>0 comments, 197 views\n",
       "                    </div>\n",
       "                </div>\n",
       "                "
      ],
      "text/plain": [
       "<Item title:\"Rocky Mountain National Park - Radio Coverage\" type:Feature Layer Collection owner:imrgis_nps>"
      ]
     },
     "metadata": {},
     "output_type": "display_data"
    },
    {
     "data": {
      "text/html": [
       "<div class=\"item_container\" style=\"height: auto; overflow: hidden; border: 1px solid #cfcfcf; border-radius: 2px; background: #f6fafa; line-height: 1.21429em; padding: 10px;\">\n",
       "                    <div class=\"item_left\" style=\"width: 210px; float: left;\">\n",
       "                       <a href='https://www.arcgis.com/home/item.html?id=3c5bcc7f4f8d4d2990dd04b281c1b9d1' target='_blank'>\n",
       "                        <img src='http://static.arcgis.com/images/desktopapp.png' class=\"itemThumbnail\">\n",
       "                       </a>\n",
       "                    </div>\n",
       "\n",
       "                    <div class=\"item_right\"     style=\"float: none; width: auto; overflow: hidden;\">\n",
       "                        <a href='https://www.arcgis.com/home/item.html?id=3c5bcc7f4f8d4d2990dd04b281c1b9d1' target='_blank'><b>Rocky Mountain National Park - Radio Repeaters</b>\n",
       "                        </a>\n",
       "                        <br/>Rocky Mountain National Park - Radio Repeaters  (Public, Open Data)<img src='https://www.arcgis.com/home/js/jsapi/esri/css/images/item_type_icons/featureshosted16.png' style=\"vertical-align:middle;\">Feature Layer Collection by imrgis_nps\n",
       "                        <br/>Last Modified: March 21, 2019\n",
       "                        <br/>0 comments, 126 views\n",
       "                    </div>\n",
       "                </div>\n",
       "                "
      ],
      "text/plain": [
       "<Item title:\"Rocky Mountain National Park - Radio Repeaters\" type:Feature Layer Collection owner:imrgis_nps>"
      ]
     },
     "metadata": {},
     "output_type": "display_data"
    },
    {
     "data": {
      "text/html": [
       "<div class=\"item_container\" style=\"height: auto; overflow: hidden; border: 1px solid #cfcfcf; border-radius: 2px; background: #f6fafa; line-height: 1.21429em; padding: 10px;\">\n",
       "                    <div class=\"item_left\" style=\"width: 210px; float: left;\">\n",
       "                       <a href='https://www.arcgis.com/home/item.html?id=fdffd3272ba546da9176416b814d2e8f' target='_blank'>\n",
       "                        <img src='https://www.arcgis.com/sharing/rest//content/items/fdffd3272ba546da9176416b814d2e8f/info/thumbnail/ago_downloaded.png' class=\"itemThumbnail\">\n",
       "                       </a>\n",
       "                    </div>\n",
       "\n",
       "                    <div class=\"item_right\"     style=\"float: none; width: auto; overflow: hidden;\">\n",
       "                        <a href='https://www.arcgis.com/home/item.html?id=fdffd3272ba546da9176416b814d2e8f' target='_blank'><b>Rocky Mountain National Park - Ranger Districts</b>\n",
       "                        </a>\n",
       "                        <br/>Rocky Mountain National Park - Ranger Districts  (Public, Open Data)<img src='https://www.arcgis.com/home/js/jsapi/esri/css/images/item_type_icons/featureshosted16.png' style=\"vertical-align:middle;\">Feature Layer Collection by imrgis_nps\n",
       "                        <br/>Last Modified: April 08, 2019\n",
       "                        <br/>0 comments, 79 views\n",
       "                    </div>\n",
       "                </div>\n",
       "                "
      ],
      "text/plain": [
       "<Item title:\"Rocky Mountain National Park - Ranger Districts\" type:Feature Layer Collection owner:imrgis_nps>"
      ]
     },
     "metadata": {},
     "output_type": "display_data"
    },
    {
     "data": {
      "text/html": [
       "<div class=\"item_container\" style=\"height: auto; overflow: hidden; border: 1px solid #cfcfcf; border-radius: 2px; background: #f6fafa; line-height: 1.21429em; padding: 10px;\">\n",
       "                    <div class=\"item_left\" style=\"width: 210px; float: left;\">\n",
       "                       <a href='https://www.arcgis.com/home/item.html?id=4039e4db841a4741aa1ce3ded8914bbb' target='_blank'>\n",
       "                        <img src='http://static.arcgis.com/images/desktopapp.png' class=\"itemThumbnail\">\n",
       "                       </a>\n",
       "                    </div>\n",
       "\n",
       "                    <div class=\"item_right\"     style=\"float: none; width: auto; overflow: hidden;\">\n",
       "                        <a href='https://www.arcgis.com/home/item.html?id=4039e4db841a4741aa1ce3ded8914bbb' target='_blank'><b>Rocky Mountain National Park - RangerStations pt</b>\n",
       "                        </a>\n",
       "                        <br/>Rocky Mountain National Park - RangerStations pt  (Public, Open Data)<img src='https://www.arcgis.com/home/js/jsapi/esri/css/images/item_type_icons/featureshosted16.png' style=\"vertical-align:middle;\">Feature Layer Collection by imrgis_nps\n",
       "                        <br/>Last Modified: March 18, 2019\n",
       "                        <br/>0 comments, 290 views\n",
       "                    </div>\n",
       "                </div>\n",
       "                "
      ],
      "text/plain": [
       "<Item title:\"Rocky Mountain National Park - RangerStations pt\" type:Feature Layer Collection owner:imrgis_nps>"
      ]
     },
     "metadata": {},
     "output_type": "display_data"
    },
    {
     "data": {
      "text/html": [
       "<div class=\"item_container\" style=\"height: auto; overflow: hidden; border: 1px solid #cfcfcf; border-radius: 2px; background: #f6fafa; line-height: 1.21429em; padding: 10px;\">\n",
       "                    <div class=\"item_left\" style=\"width: 210px; float: left;\">\n",
       "                       <a href='https://www.arcgis.com/home/item.html?id=5909b804789348ed9c35fe9c0d3d4216' target='_blank'>\n",
       "                        <img src='https://www.arcgis.com/sharing/rest//content/items/5909b804789348ed9c35fe9c0d3d4216/info/thumbnail/ago_downloaded.png' class=\"itemThumbnail\">\n",
       "                       </a>\n",
       "                    </div>\n",
       "\n",
       "                    <div class=\"item_right\"     style=\"float: none; width: auto; overflow: hidden;\">\n",
       "                        <a href='https://www.arcgis.com/home/item.html?id=5909b804789348ed9c35fe9c0d3d4216' target='_blank'><b>Rocky Mountain National Park - Research Natural Areas</b>\n",
       "                        </a>\n",
       "                        <br/>Rocky Mountain National Park - Research Natural Areas  (Public, Open Data)<img src='https://www.arcgis.com/home/js/jsapi/esri/css/images/item_type_icons/featureshosted16.png' style=\"vertical-align:middle;\">Feature Layer Collection by imrgis_nps\n",
       "                        <br/>Last Modified: April 08, 2019\n",
       "                        <br/>0 comments, 85 views\n",
       "                    </div>\n",
       "                </div>\n",
       "                "
      ],
      "text/plain": [
       "<Item title:\"Rocky Mountain National Park - Research Natural Areas\" type:Feature Layer Collection owner:imrgis_nps>"
      ]
     },
     "metadata": {},
     "output_type": "display_data"
    },
    {
     "data": {
      "text/html": [
       "<div class=\"item_container\" style=\"height: auto; overflow: hidden; border: 1px solid #cfcfcf; border-radius: 2px; background: #f6fafa; line-height: 1.21429em; padding: 10px;\">\n",
       "                    <div class=\"item_left\" style=\"width: 210px; float: left;\">\n",
       "                       <a href='https://www.arcgis.com/home/item.html?id=1546300fcab94206bbb60fea7b3cc5b8' target='_blank'>\n",
       "                        <img src='http://static.arcgis.com/images/desktopapp.png' class=\"itemThumbnail\">\n",
       "                       </a>\n",
       "                    </div>\n",
       "\n",
       "                    <div class=\"item_right\"     style=\"float: none; width: auto; overflow: hidden;\">\n",
       "                        <a href='https://www.arcgis.com/home/item.html?id=1546300fcab94206bbb60fea7b3cc5b8' target='_blank'><b>Rocky Mountain National Park - Restrooms</b>\n",
       "                        </a>\n",
       "                        <br/>Rocky Mountain National Park - Restrooms  (Public, Open Data)<img src='https://www.arcgis.com/home/js/jsapi/esri/css/images/item_type_icons/featureshosted16.png' style=\"vertical-align:middle;\">Feature Layer Collection by imrgis_nps\n",
       "                        <br/>Last Modified: March 21, 2019\n",
       "                        <br/>0 comments, 202 views\n",
       "                    </div>\n",
       "                </div>\n",
       "                "
      ],
      "text/plain": [
       "<Item title:\"Rocky Mountain National Park - Restrooms\" type:Feature Layer Collection owner:imrgis_nps>"
      ]
     },
     "metadata": {},
     "output_type": "display_data"
    },
    {
     "data": {
      "text/html": [
       "<div class=\"item_container\" style=\"height: auto; overflow: hidden; border: 1px solid #cfcfcf; border-radius: 2px; background: #f6fafa; line-height: 1.21429em; padding: 10px;\">\n",
       "                    <div class=\"item_left\" style=\"width: 210px; float: left;\">\n",
       "                       <a href='https://www.arcgis.com/home/item.html?id=63a36c4c6a0e40d9be43de7f0c8894ad' target='_blank'>\n",
       "                        <img src='http://static.arcgis.com/images/desktopapp.png' class=\"itemThumbnail\">\n",
       "                       </a>\n",
       "                    </div>\n",
       "\n",
       "                    <div class=\"item_right\"     style=\"float: none; width: auto; overflow: hidden;\">\n",
       "                        <a href='https://www.arcgis.com/home/item.html?id=63a36c4c6a0e40d9be43de7f0c8894ad' target='_blank'><b>Rocky Mountain National Park - Roads N Central CO</b>\n",
       "                        </a>\n",
       "                        <br/>Rocky Mountain National Park - Roads N Central CO  (Public, Open Data)<img src='https://www.arcgis.com/home/js/jsapi/esri/css/images/item_type_icons/featureshosted16.png' style=\"vertical-align:middle;\">Feature Layer Collection by imrgis_nps\n",
       "                        <br/>Last Modified: March 21, 2019\n",
       "                        <br/>0 comments, 165 views\n",
       "                    </div>\n",
       "                </div>\n",
       "                "
      ],
      "text/plain": [
       "<Item title:\"Rocky Mountain National Park - Roads N Central CO\" type:Feature Layer Collection owner:imrgis_nps>"
      ]
     },
     "metadata": {},
     "output_type": "display_data"
    },
    {
     "data": {
      "text/html": [
       "<div class=\"item_container\" style=\"height: auto; overflow: hidden; border: 1px solid #cfcfcf; border-radius: 2px; background: #f6fafa; line-height: 1.21429em; padding: 10px;\">\n",
       "                    <div class=\"item_left\" style=\"width: 210px; float: left;\">\n",
       "                       <a href='https://www.arcgis.com/home/item.html?id=5dbca836cd734676a8cf47809c0b76f2' target='_blank'>\n",
       "                        <img src='https://www.arcgis.com/sharing/rest//content/items/5dbca836cd734676a8cf47809c0b76f2/info/thumbnail/ago_downloaded.png' class=\"itemThumbnail\">\n",
       "                       </a>\n",
       "                    </div>\n",
       "\n",
       "                    <div class=\"item_right\"     style=\"float: none; width: auto; overflow: hidden;\">\n",
       "                        <a href='https://www.arcgis.com/home/item.html?id=5dbca836cd734676a8cf47809c0b76f2' target='_blank'><b>Rocky Mountain National Park - Seasonally Closed Roads ROMO</b>\n",
       "                        </a>\n",
       "                        <br/>Rocky Mountain National Park - Seasonally Closed Roads ROMO  (Public, Open Data)<img src='https://www.arcgis.com/home/js/jsapi/esri/css/images/item_type_icons/featureshosted16.png' style=\"vertical-align:middle;\">Feature Layer Collection by imrgis_nps\n",
       "                        <br/>Last Modified: May 02, 2019\n",
       "                        <br/>0 comments, 280 views\n",
       "                    </div>\n",
       "                </div>\n",
       "                "
      ],
      "text/plain": [
       "<Item title:\"Rocky Mountain National Park - Seasonally Closed Roads ROMO\" type:Feature Layer Collection owner:imrgis_nps>"
      ]
     },
     "metadata": {},
     "output_type": "display_data"
    },
    {
     "data": {
      "text/html": [
       "<div class=\"item_container\" style=\"height: auto; overflow: hidden; border: 1px solid #cfcfcf; border-radius: 2px; background: #f6fafa; line-height: 1.21429em; padding: 10px;\">\n",
       "                    <div class=\"item_left\" style=\"width: 210px; float: left;\">\n",
       "                       <a href='https://www.arcgis.com/home/item.html?id=868e76ad9dbc4bc4bfbfc3f559dce7f3' target='_blank'>\n",
       "                        <img src='http://static.arcgis.com/images/desktopapp.png' class=\"itemThumbnail\">\n",
       "                       </a>\n",
       "                    </div>\n",
       "\n",
       "                    <div class=\"item_right\"     style=\"float: none; width: auto; overflow: hidden;\">\n",
       "                        <a href='https://www.arcgis.com/home/item.html?id=868e76ad9dbc4bc4bfbfc3f559dce7f3' target='_blank'><b>Rocky Mountain National Park - Shuttle Routes</b>\n",
       "                        </a>\n",
       "                        <br/>Rocky Mountain National Park - Shuttle Routes  (Public, Open Data)<img src='https://www.arcgis.com/home/js/jsapi/esri/css/images/item_type_icons/featureshosted16.png' style=\"vertical-align:middle;\">Feature Layer Collection by imrgis_nps\n",
       "                        <br/>Last Modified: March 21, 2019\n",
       "                        <br/>0 comments, 146 views\n",
       "                    </div>\n",
       "                </div>\n",
       "                "
      ],
      "text/plain": [
       "<Item title:\"Rocky Mountain National Park - Shuttle Routes\" type:Feature Layer Collection owner:imrgis_nps>"
      ]
     },
     "metadata": {},
     "output_type": "display_data"
    },
    {
     "data": {
      "text/html": [
       "<div class=\"item_container\" style=\"height: auto; overflow: hidden; border: 1px solid #cfcfcf; border-radius: 2px; background: #f6fafa; line-height: 1.21429em; padding: 10px;\">\n",
       "                    <div class=\"item_left\" style=\"width: 210px; float: left;\">\n",
       "                       <a href='https://www.arcgis.com/home/item.html?id=b2804cc811f44c0abfb4437fffd35444' target='_blank'>\n",
       "                        <img src='https://www.arcgis.com/sharing/rest//content/items/b2804cc811f44c0abfb4437fffd35444/info/thumbnail/ago_downloaded.png' class=\"itemThumbnail\">\n",
       "                       </a>\n",
       "                    </div>\n",
       "\n",
       "                    <div class=\"item_right\"     style=\"float: none; width: auto; overflow: hidden;\">\n",
       "                        <a href='https://www.arcgis.com/home/item.html?id=b2804cc811f44c0abfb4437fffd35444' target='_blank'><b>Rocky Mountain National Park - ShuttleStop pt</b>\n",
       "                        </a>\n",
       "                        <br/>Rocky Mountain National Park - ShuttleStop pt  (Public, Open Data)<img src='https://www.arcgis.com/home/js/jsapi/esri/css/images/item_type_icons/featureshosted16.png' style=\"vertical-align:middle;\">Feature Layer Collection by imrgis_nps\n",
       "                        <br/>Last Modified: March 18, 2019\n",
       "                        <br/>0 comments, 129 views\n",
       "                    </div>\n",
       "                </div>\n",
       "                "
      ],
      "text/plain": [
       "<Item title:\"Rocky Mountain National Park - ShuttleStop pt\" type:Feature Layer Collection owner:imrgis_nps>"
      ]
     },
     "metadata": {},
     "output_type": "display_data"
    },
    {
     "data": {
      "text/html": [
       "<div class=\"item_container\" style=\"height: auto; overflow: hidden; border: 1px solid #cfcfcf; border-radius: 2px; background: #f6fafa; line-height: 1.21429em; padding: 10px;\">\n",
       "                    <div class=\"item_left\" style=\"width: 210px; float: left;\">\n",
       "                       <a href='https://www.arcgis.com/home/item.html?id=8d6aa23fecd8414ebb8112185e101c47' target='_blank'>\n",
       "                        <img src='https://www.arcgis.com/sharing/rest//content/items/8d6aa23fecd8414ebb8112185e101c47/info/thumbnail/ago_downloaded.png' class=\"itemThumbnail\">\n",
       "                       </a>\n",
       "                    </div>\n",
       "\n",
       "                    <div class=\"item_right\"     style=\"float: none; width: auto; overflow: hidden;\">\n",
       "                        <a href='https://www.arcgis.com/home/item.html?id=8d6aa23fecd8414ebb8112185e101c47' target='_blank'><b>Rocky Mountain National Park - SNOTEL Sites</b>\n",
       "                        </a>\n",
       "                        <br/>Rocky Mountain National Park - SNOTEL Sites  (Public, Open Data)<img src='https://www.arcgis.com/home/js/jsapi/esri/css/images/item_type_icons/featureshosted16.png' style=\"vertical-align:middle;\">Feature Layer Collection by imrgis_nps\n",
       "                        <br/>Last Modified: April 08, 2019\n",
       "                        <br/>0 comments, 209 views\n",
       "                    </div>\n",
       "                </div>\n",
       "                "
      ],
      "text/plain": [
       "<Item title:\"Rocky Mountain National Park - SNOTEL Sites\" type:Feature Layer Collection owner:imrgis_nps>"
      ]
     },
     "metadata": {},
     "output_type": "display_data"
    },
    {
     "data": {
      "text/html": [
       "<div class=\"item_container\" style=\"height: auto; overflow: hidden; border: 1px solid #cfcfcf; border-radius: 2px; background: #f6fafa; line-height: 1.21429em; padding: 10px;\">\n",
       "                    <div class=\"item_left\" style=\"width: 210px; float: left;\">\n",
       "                       <a href='https://www.arcgis.com/home/item.html?id=635f094fc1cf43b99c98c5ee294d5e80' target='_blank'>\n",
       "                        <img src='http://static.arcgis.com/images/desktopapp.png' class=\"itemThumbnail\">\n",
       "                       </a>\n",
       "                    </div>\n",
       "\n",
       "                    <div class=\"item_right\"     style=\"float: none; width: auto; overflow: hidden;\">\n",
       "                        <a href='https://www.arcgis.com/home/item.html?id=635f094fc1cf43b99c98c5ee294d5e80' target='_blank'><b>Rocky Mountain National Park - Soil Units</b>\n",
       "                        </a>\n",
       "                        <br/>Rocky Mountain National Park - Soil Units  (Public, Open Data)<img src='https://www.arcgis.com/home/js/jsapi/esri/css/images/item_type_icons/featureshosted16.png' style=\"vertical-align:middle;\">Feature Layer Collection by imrgis_nps\n",
       "                        <br/>Last Modified: March 21, 2019\n",
       "                        <br/>0 comments, 195 views\n",
       "                    </div>\n",
       "                </div>\n",
       "                "
      ],
      "text/plain": [
       "<Item title:\"Rocky Mountain National Park - Soil Units\" type:Feature Layer Collection owner:imrgis_nps>"
      ]
     },
     "metadata": {},
     "output_type": "display_data"
    },
    {
     "data": {
      "text/html": [
       "<div class=\"item_container\" style=\"height: auto; overflow: hidden; border: 1px solid #cfcfcf; border-radius: 2px; background: #f6fafa; line-height: 1.21429em; padding: 10px;\">\n",
       "                    <div class=\"item_left\" style=\"width: 210px; float: left;\">\n",
       "                       <a href='https://www.arcgis.com/home/item.html?id=4a97e973c74649328697dd9531576bb4' target='_blank'>\n",
       "                        <img src='https://www.arcgis.com/sharing/rest//content/items/4a97e973c74649328697dd9531576bb4/info/thumbnail/ago_downloaded.png' class=\"itemThumbnail\">\n",
       "                       </a>\n",
       "                    </div>\n",
       "\n",
       "                    <div class=\"item_right\"     style=\"float: none; width: auto; overflow: hidden;\">\n",
       "                        <a href='https://www.arcgis.com/home/item.html?id=4a97e973c74649328697dd9531576bb4' target='_blank'><b>Rocky Mountain National Park - Stables pt</b>\n",
       "                        </a>\n",
       "                        <br/>Rocky Mountain National Park - Stables pt  (Public, Open Data)<img src='https://www.arcgis.com/home/js/jsapi/esri/css/images/item_type_icons/featureshosted16.png' style=\"vertical-align:middle;\">Feature Layer Collection by imrgis_nps\n",
       "                        <br/>Last Modified: April 08, 2019\n",
       "                        <br/>0 comments, 186 views\n",
       "                    </div>\n",
       "                </div>\n",
       "                "
      ],
      "text/plain": [
       "<Item title:\"Rocky Mountain National Park - Stables pt\" type:Feature Layer Collection owner:imrgis_nps>"
      ]
     },
     "metadata": {},
     "output_type": "display_data"
    },
    {
     "data": {
      "text/html": [
       "<div class=\"item_container\" style=\"height: auto; overflow: hidden; border: 1px solid #cfcfcf; border-radius: 2px; background: #f6fafa; line-height: 1.21429em; padding: 10px;\">\n",
       "                    <div class=\"item_left\" style=\"width: 210px; float: left;\">\n",
       "                       <a href='https://www.arcgis.com/home/item.html?id=8df8664c804f4da79bbb9d776649b346' target='_blank'>\n",
       "                        <img src='https://www.arcgis.com/sharing/rest//content/items/8df8664c804f4da79bbb9d776649b346/info/thumbnail/ago_downloaded.png' class=\"itemThumbnail\">\n",
       "                       </a>\n",
       "                    </div>\n",
       "\n",
       "                    <div class=\"item_right\"     style=\"float: none; width: auto; overflow: hidden;\">\n",
       "                        <a href='https://www.arcgis.com/home/item.html?id=8df8664c804f4da79bbb9d776649b346' target='_blank'><b>Rocky Mountain National Park - Streams</b>\n",
       "                        </a>\n",
       "                        <br/>Rocky Mountain National Park - Streams  (Public, Open Data)<img src='https://www.arcgis.com/home/js/jsapi/esri/css/images/item_type_icons/featureshosted16.png' style=\"vertical-align:middle;\">Feature Layer Collection by imrgis_nps\n",
       "                        <br/>Last Modified: April 08, 2019\n",
       "                        <br/>0 comments, 399 views\n",
       "                    </div>\n",
       "                </div>\n",
       "                "
      ],
      "text/plain": [
       "<Item title:\"Rocky Mountain National Park - Streams\" type:Feature Layer Collection owner:imrgis_nps>"
      ]
     },
     "metadata": {},
     "output_type": "display_data"
    },
    {
     "data": {
      "text/html": [
       "<div class=\"item_container\" style=\"height: auto; overflow: hidden; border: 1px solid #cfcfcf; border-radius: 2px; background: #f6fafa; line-height: 1.21429em; padding: 10px;\">\n",
       "                    <div class=\"item_left\" style=\"width: 210px; float: left;\">\n",
       "                       <a href='https://www.arcgis.com/home/item.html?id=0224b4a091be4992b53e411a7f71f230' target='_blank'>\n",
       "                        <img src='http://static.arcgis.com/images/desktopapp.png' class=\"itemThumbnail\">\n",
       "                       </a>\n",
       "                    </div>\n",
       "\n",
       "                    <div class=\"item_right\"     style=\"float: none; width: auto; overflow: hidden;\">\n",
       "                        <a href='https://www.arcgis.com/home/item.html?id=0224b4a091be4992b53e411a7f71f230' target='_blank'><b>Rocky Mountain National Park - Summits</b>\n",
       "                        </a>\n",
       "                        <br/>Rocky Mountain National Park - Summits  (Public, Open Data)<img src='https://www.arcgis.com/home/js/jsapi/esri/css/images/item_type_icons/featureshosted16.png' style=\"vertical-align:middle;\">Feature Layer Collection by imrgis_nps\n",
       "                        <br/>Last Modified: March 20, 2019\n",
       "                        <br/>0 comments, 195 views\n",
       "                    </div>\n",
       "                </div>\n",
       "                "
      ],
      "text/plain": [
       "<Item title:\"Rocky Mountain National Park - Summits\" type:Feature Layer Collection owner:imrgis_nps>"
      ]
     },
     "metadata": {},
     "output_type": "display_data"
    },
    {
     "data": {
      "text/html": [
       "<div class=\"item_container\" style=\"height: auto; overflow: hidden; border: 1px solid #cfcfcf; border-radius: 2px; background: #f6fafa; line-height: 1.21429em; padding: 10px;\">\n",
       "                    <div class=\"item_left\" style=\"width: 210px; float: left;\">\n",
       "                       <a href='https://www.arcgis.com/home/item.html?id=55748f2f1d8a4db7aa26f7549e74be57' target='_blank'>\n",
       "                        <img src='http://static.arcgis.com/images/desktopapp.png' class=\"itemThumbnail\">\n",
       "                       </a>\n",
       "                    </div>\n",
       "\n",
       "                    <div class=\"item_right\"     style=\"float: none; width: auto; overflow: hidden;\">\n",
       "                        <a href='https://www.arcgis.com/home/item.html?id=55748f2f1d8a4db7aa26f7549e74be57' target='_blank'><b>Rocky Mountain National Park - Trailheads pt</b>\n",
       "                        </a>\n",
       "                        <br/>Rocky Mountain National Park - Trailheads pt  (Public, Open Data)<img src='https://www.arcgis.com/home/js/jsapi/esri/css/images/item_type_icons/featureshosted16.png' style=\"vertical-align:middle;\">Feature Layer Collection by imrgis_nps\n",
       "                        <br/>Last Modified: March 18, 2019\n",
       "                        <br/>0 comments, 534 views\n",
       "                    </div>\n",
       "                </div>\n",
       "                "
      ],
      "text/plain": [
       "<Item title:\"Rocky Mountain National Park - Trailheads pt\" type:Feature Layer Collection owner:imrgis_nps>"
      ]
     },
     "metadata": {},
     "output_type": "display_data"
    },
    {
     "data": {
      "text/html": [
       "<div class=\"item_container\" style=\"height: auto; overflow: hidden; border: 1px solid #cfcfcf; border-radius: 2px; background: #f6fafa; line-height: 1.21429em; padding: 10px;\">\n",
       "                    <div class=\"item_left\" style=\"width: 210px; float: left;\">\n",
       "                       <a href='https://www.arcgis.com/home/item.html?id=e1e0bcb87eb94960bc04f76e03936385' target='_blank'>\n",
       "                        <img src='https://www.arcgis.com/sharing/rest//content/items/e1e0bcb87eb94960bc04f76e03936385/info/thumbnail/ago_downloaded.png' class=\"itemThumbnail\">\n",
       "                       </a>\n",
       "                    </div>\n",
       "\n",
       "                    <div class=\"item_right\"     style=\"float: none; width: auto; overflow: hidden;\">\n",
       "                        <a href='https://www.arcgis.com/home/item.html?id=e1e0bcb87eb94960bc04f76e03936385' target='_blank'><b>Rocky Mountain National Park - Trails</b>\n",
       "                        </a>\n",
       "                        <br/>Rocky Mountain National Park - Trails  (Public, Open Data)<img src='https://www.arcgis.com/home/js/jsapi/esri/css/images/item_type_icons/featureshosted16.png' style=\"vertical-align:middle;\">Feature Layer Collection by imrgis_nps\n",
       "                        <br/>Last Modified: June 10, 2019\n",
       "                        <br/>0 comments, 248,572 views\n",
       "                    </div>\n",
       "                </div>\n",
       "                "
      ],
      "text/plain": [
       "<Item title:\"Rocky Mountain National Park - Trails\" type:Feature Layer Collection owner:imrgis_nps>"
      ]
     },
     "metadata": {},
     "output_type": "display_data"
    },
    {
     "data": {
      "text/html": [
       "<div class=\"item_container\" style=\"height: auto; overflow: hidden; border: 1px solid #cfcfcf; border-radius: 2px; background: #f6fafa; line-height: 1.21429em; padding: 10px;\">\n",
       "                    <div class=\"item_left\" style=\"width: 210px; float: left;\">\n",
       "                       <a href='https://www.arcgis.com/home/item.html?id=85a6e589397e4a7aa7b2ebf8cffa4183' target='_blank'>\n",
       "                        <img src='http://static.arcgis.com/images/desktopapp.png' class=\"itemThumbnail\">\n",
       "                       </a>\n",
       "                    </div>\n",
       "\n",
       "                    <div class=\"item_right\"     style=\"float: none; width: auto; overflow: hidden;\">\n",
       "                        <a href='https://www.arcgis.com/home/item.html?id=85a6e589397e4a7aa7b2ebf8cffa4183' target='_blank'><b>Rocky Mountain National Park - Tundra Closures</b>\n",
       "                        </a>\n",
       "                        <br/>Rocky Mountain National Park - Tundra Closures  (Public, Open Data)<img src='https://www.arcgis.com/home/js/jsapi/esri/css/images/item_type_icons/featureshosted16.png' style=\"vertical-align:middle;\">Feature Layer Collection by imrgis_nps\n",
       "                        <br/>Last Modified: March 21, 2019\n",
       "                        <br/>0 comments, 141 views\n",
       "                    </div>\n",
       "                </div>\n",
       "                "
      ],
      "text/plain": [
       "<Item title:\"Rocky Mountain National Park - Tundra Closures\" type:Feature Layer Collection owner:imrgis_nps>"
      ]
     },
     "metadata": {},
     "output_type": "display_data"
    },
    {
     "data": {
      "text/html": [
       "<div class=\"item_container\" style=\"height: auto; overflow: hidden; border: 1px solid #cfcfcf; border-radius: 2px; background: #f6fafa; line-height: 1.21429em; padding: 10px;\">\n",
       "                    <div class=\"item_left\" style=\"width: 210px; float: left;\">\n",
       "                       <a href='https://www.arcgis.com/home/item.html?id=05c8e502a8e14d07836099a2cd03ecfd' target='_blank'>\n",
       "                        <img src='http://static.arcgis.com/images/desktopapp.png' class=\"itemThumbnail\">\n",
       "                       </a>\n",
       "                    </div>\n",
       "\n",
       "                    <div class=\"item_right\"     style=\"float: none; width: auto; overflow: hidden;\">\n",
       "                        <a href='https://www.arcgis.com/home/item.html?id=05c8e502a8e14d07836099a2cd03ecfd' target='_blank'><b>Rocky Mountain National Park - USFS Land</b>\n",
       "                        </a>\n",
       "                        <br/>Rocky Mountain National Park - USFS Land  (Public, Open Data)<img src='https://www.arcgis.com/home/js/jsapi/esri/css/images/item_type_icons/featureshosted16.png' style=\"vertical-align:middle;\">Feature Layer Collection by imrgis_nps\n",
       "                        <br/>Last Modified: March 21, 2019\n",
       "                        <br/>0 comments, 153 views\n",
       "                    </div>\n",
       "                </div>\n",
       "                "
      ],
      "text/plain": [
       "<Item title:\"Rocky Mountain National Park - USFS Land\" type:Feature Layer Collection owner:imrgis_nps>"
      ]
     },
     "metadata": {},
     "output_type": "display_data"
    },
    {
     "data": {
      "text/html": [
       "<div class=\"item_container\" style=\"height: auto; overflow: hidden; border: 1px solid #cfcfcf; border-radius: 2px; background: #f6fafa; line-height: 1.21429em; padding: 10px;\">\n",
       "                    <div class=\"item_left\" style=\"width: 210px; float: left;\">\n",
       "                       <a href='https://www.arcgis.com/home/item.html?id=ed5955c6cf844cfdb1be42a5cd7398ad' target='_blank'>\n",
       "                        <img src='https://www.arcgis.com/sharing/rest//content/items/ed5955c6cf844cfdb1be42a5cd7398ad/info/thumbnail/ago_downloaded.png' class=\"itemThumbnail\">\n",
       "                       </a>\n",
       "                    </div>\n",
       "\n",
       "                    <div class=\"item_right\"     style=\"float: none; width: auto; overflow: hidden;\">\n",
       "                        <a href='https://www.arcgis.com/home/item.html?id=ed5955c6cf844cfdb1be42a5cd7398ad' target='_blank'><b>Rocky Mountain National Park - USGS GNIS Pts (ROMO)</b>\n",
       "                        </a>\n",
       "                        <br/>Rocky Mountain National Park - USGS GNIS Pts (ROMO)  (Public, Open Data)<img src='https://www.arcgis.com/home/js/jsapi/esri/css/images/item_type_icons/featureshosted16.png' style=\"vertical-align:middle;\">Feature Layer Collection by imrgis_nps\n",
       "                        <br/>Last Modified: March 19, 2019\n",
       "                        <br/>0 comments, 144 views\n",
       "                    </div>\n",
       "                </div>\n",
       "                "
      ],
      "text/plain": [
       "<Item title:\"Rocky Mountain National Park - USGS GNIS Pts (ROMO)\" type:Feature Layer Collection owner:imrgis_nps>"
      ]
     },
     "metadata": {},
     "output_type": "display_data"
    },
    {
     "data": {
      "text/html": [
       "<div class=\"item_container\" style=\"height: auto; overflow: hidden; border: 1px solid #cfcfcf; border-radius: 2px; background: #f6fafa; line-height: 1.21429em; padding: 10px;\">\n",
       "                    <div class=\"item_left\" style=\"width: 210px; float: left;\">\n",
       "                       <a href='https://www.arcgis.com/home/item.html?id=d6d41d5d3a9545f18df990f6f75b9e55' target='_blank'>\n",
       "                        <img src='https://www.arcgis.com/sharing/rest//content/items/d6d41d5d3a9545f18df990f6f75b9e55/info/thumbnail/ago_downloaded.png' class=\"itemThumbnail\">\n",
       "                       </a>\n",
       "                    </div>\n",
       "\n",
       "                    <div class=\"item_right\"     style=\"float: none; width: auto; overflow: hidden;\">\n",
       "                        <a href='https://www.arcgis.com/home/item.html?id=d6d41d5d3a9545f18df990f6f75b9e55' target='_blank'><b>Rocky Mountain National Park - Veg Map</b>\n",
       "                        </a>\n",
       "                        <br/>Rocky Mountain National Park - Veg Map  (Public, Open Data)<img src='https://www.arcgis.com/home/js/jsapi/esri/css/images/item_type_icons/featureshosted16.png' style=\"vertical-align:middle;\">Feature Layer Collection by imrgis_nps\n",
       "                        <br/>Last Modified: April 08, 2019\n",
       "                        <br/>0 comments, 501 views\n",
       "                    </div>\n",
       "                </div>\n",
       "                "
      ],
      "text/plain": [
       "<Item title:\"Rocky Mountain National Park - Veg Map\" type:Feature Layer Collection owner:imrgis_nps>"
      ]
     },
     "metadata": {},
     "output_type": "display_data"
    },
    {
     "data": {
      "text/html": [
       "<div class=\"item_container\" style=\"height: auto; overflow: hidden; border: 1px solid #cfcfcf; border-radius: 2px; background: #f6fafa; line-height: 1.21429em; padding: 10px;\">\n",
       "                    <div class=\"item_left\" style=\"width: 210px; float: left;\">\n",
       "                       <a href='https://www.arcgis.com/home/item.html?id=ab229e2d0e43475fa3184dccd9349385' target='_blank'>\n",
       "                        <img src='http://static.arcgis.com/images/desktopapp.png' class=\"itemThumbnail\">\n",
       "                       </a>\n",
       "                    </div>\n",
       "\n",
       "                    <div class=\"item_right\"     style=\"float: none; width: auto; overflow: hidden;\">\n",
       "                        <a href='https://www.arcgis.com/home/item.html?id=ab229e2d0e43475fa3184dccd9349385' target='_blank'><b>Rocky Mountain National Park - Visitor Centers</b>\n",
       "                        </a>\n",
       "                        <br/>Rocky Mountain National Park - Visitor Centers  (Public, Open Data)<img src='https://www.arcgis.com/home/js/jsapi/esri/css/images/item_type_icons/featureshosted16.png' style=\"vertical-align:middle;\">Feature Layer Collection by imrgis_nps\n",
       "                        <br/>Last Modified: March 20, 2019\n",
       "                        <br/>0 comments, 151 views\n",
       "                    </div>\n",
       "                </div>\n",
       "                "
      ],
      "text/plain": [
       "<Item title:\"Rocky Mountain National Park - Visitor Centers\" type:Feature Layer Collection owner:imrgis_nps>"
      ]
     },
     "metadata": {},
     "output_type": "display_data"
    },
    {
     "data": {
      "text/html": [
       "<div class=\"item_container\" style=\"height: auto; overflow: hidden; border: 1px solid #cfcfcf; border-radius: 2px; background: #f6fafa; line-height: 1.21429em; padding: 10px;\">\n",
       "                    <div class=\"item_left\" style=\"width: 210px; float: left;\">\n",
       "                       <a href='https://www.arcgis.com/home/item.html?id=0b4d0aed6779430fa7d61dca88a9ff04' target='_blank'>\n",
       "                        <img src='http://static.arcgis.com/images/desktopapp.png' class=\"itemThumbnail\">\n",
       "                       </a>\n",
       "                    </div>\n",
       "\n",
       "                    <div class=\"item_right\"     style=\"float: none; width: auto; overflow: hidden;\">\n",
       "                        <a href='https://www.arcgis.com/home/item.html?id=0b4d0aed6779430fa7d61dca88a9ff04' target='_blank'><b>Rocky Mountain National Park - Wilderness Designated</b>\n",
       "                        </a>\n",
       "                        <br/>Rocky Mountain National Park - Wilderness Designated  (Public, Open Data)<img src='https://www.arcgis.com/home/js/jsapi/esri/css/images/item_type_icons/featureshosted16.png' style=\"vertical-align:middle;\">Feature Layer Collection by imrgis_nps\n",
       "                        <br/>Last Modified: March 21, 2019\n",
       "                        <br/>0 comments, 173 views\n",
       "                    </div>\n",
       "                </div>\n",
       "                "
      ],
      "text/plain": [
       "<Item title:\"Rocky Mountain National Park - Wilderness Designated\" type:Feature Layer Collection owner:imrgis_nps>"
      ]
     },
     "metadata": {},
     "output_type": "display_data"
    },
    {
     "data": {
      "text/html": [
       "<div class=\"item_container\" style=\"height: auto; overflow: hidden; border: 1px solid #cfcfcf; border-radius: 2px; background: #f6fafa; line-height: 1.21429em; padding: 10px;\">\n",
       "                    <div class=\"item_left\" style=\"width: 210px; float: left;\">\n",
       "                       <a href='https://www.arcgis.com/home/item.html?id=3fbd618bb9fb4ce4bf15b838b956367b' target='_blank'>\n",
       "                        <img src='http://static.arcgis.com/images/desktopapp.png' class=\"itemThumbnail\">\n",
       "                       </a>\n",
       "                    </div>\n",
       "\n",
       "                    <div class=\"item_right\"     style=\"float: none; width: auto; overflow: hidden;\">\n",
       "                        <a href='https://www.arcgis.com/home/item.html?id=3fbd618bb9fb4ce4bf15b838b956367b' target='_blank'><b>Rocky Mountain National Park - Wilderness Patrol Zones</b>\n",
       "                        </a>\n",
       "                        <br/>Rocky Mountain National Park - Wilderness Patrol Zones  (Public, Open Data)<img src='https://www.arcgis.com/home/js/jsapi/esri/css/images/item_type_icons/featureshosted16.png' style=\"vertical-align:middle;\">Feature Layer Collection by imrgis_nps\n",
       "                        <br/>Last Modified: March 21, 2019\n",
       "                        <br/>0 comments, 75 views\n",
       "                    </div>\n",
       "                </div>\n",
       "                "
      ],
      "text/plain": [
       "<Item title:\"Rocky Mountain National Park - Wilderness Patrol Zones\" type:Feature Layer Collection owner:imrgis_nps>"
      ]
     },
     "metadata": {},
     "output_type": "display_data"
    },
    {
     "data": {
      "text/html": [
       "<div class=\"item_container\" style=\"height: auto; overflow: hidden; border: 1px solid #cfcfcf; border-radius: 2px; background: #f6fafa; line-height: 1.21429em; padding: 10px;\">\n",
       "                    <div class=\"item_left\" style=\"width: 210px; float: left;\">\n",
       "                       <a href='https://www.arcgis.com/home/item.html?id=16b2757e727549db8289b2913796435f' target='_blank'>\n",
       "                        <img src='https://www.arcgis.com/sharing/rest//content/items/16b2757e727549db8289b2913796435f/info/thumbnail/ago_downloaded.png' class=\"itemThumbnail\">\n",
       "                       </a>\n",
       "                    </div>\n",
       "\n",
       "                    <div class=\"item_right\"     style=\"float: none; width: auto; overflow: hidden;\">\n",
       "                        <a href='https://www.arcgis.com/home/item.html?id=16b2757e727549db8289b2913796435f' target='_blank'><b>Rocky Mountain National Park - Wilderness Potential</b>\n",
       "                        </a>\n",
       "                        <br/>Rocky Mountain National Park - Wilderness Potential  (Public, Open Data)<img src='https://www.arcgis.com/home/js/jsapi/esri/css/images/item_type_icons/featureshosted16.png' style=\"vertical-align:middle;\">Feature Layer Collection by imrgis_nps\n",
       "                        <br/>Last Modified: August 01, 2019\n",
       "                        <br/>0 comments, 123 views\n",
       "                    </div>\n",
       "                </div>\n",
       "                "
      ],
      "text/plain": [
       "<Item title:\"Rocky Mountain National Park - Wilderness Potential\" type:Feature Layer Collection owner:imrgis_nps>"
      ]
     },
     "metadata": {},
     "output_type": "display_data"
    },
    {
     "data": {
      "text/html": [
       "<div class=\"item_container\" style=\"height: auto; overflow: hidden; border: 1px solid #cfcfcf; border-radius: 2px; background: #f6fafa; line-height: 1.21429em; padding: 10px;\">\n",
       "                    <div class=\"item_left\" style=\"width: 210px; float: left;\">\n",
       "                       <a href='https://www.arcgis.com/home/item.html?id=38bed68d4c20450188df9334b7b8b2ed' target='_blank'>\n",
       "                        <img src='http://static.arcgis.com/images/desktopapp.png' class=\"itemThumbnail\">\n",
       "                       </a>\n",
       "                    </div>\n",
       "\n",
       "                    <div class=\"item_right\"     style=\"float: none; width: auto; overflow: hidden;\">\n",
       "                        <a href='https://www.arcgis.com/home/item.html?id=38bed68d4c20450188df9334b7b8b2ed' target='_blank'><b>Rocky Mountain National Park - Winter Camping Zones</b>\n",
       "                        </a>\n",
       "                        <br/>Rocky Mountain National Park - Winter Camping Zones  (Public, Open Data)<img src='https://www.arcgis.com/home/js/jsapi/esri/css/images/item_type_icons/featureshosted16.png' style=\"vertical-align:middle;\">Feature Layer Collection by imrgis_nps\n",
       "                        <br/>Last Modified: March 21, 2019\n",
       "                        <br/>0 comments, 99 views\n",
       "                    </div>\n",
       "                </div>\n",
       "                "
      ],
      "text/plain": [
       "<Item title:\"Rocky Mountain National Park - Winter Camping Zones\" type:Feature Layer Collection owner:imrgis_nps>"
      ]
     },
     "metadata": {},
     "output_type": "display_data"
    }
   ],
   "source": [
    "rmnp_group = gis.groups.search('title:Rocky Mountain National Park Open Data', max_groups=1)[0]\n",
    "for item in rmnp_group.content():\n",
    "    display(item)"
   ]
  },
  {
   "cell_type": "code",
   "execution_count": 36,
   "metadata": {},
   "outputs": [],
   "source": [
    "trail_search = gis.content.search('title:Rocky Mountain National Park - Trails owner:imrgis_nps')\n",
    "trailheads = trail_search[0]\n",
    "trails = trail_search[1]"
   ]
  },
  {
   "cell_type": "code",
   "execution_count": 38,
   "metadata": {},
   "outputs": [],
   "source": [
    "campsites = gis.content.search('title:Backcountry Campsites for 2017')[0]"
   ]
  },
  {
   "cell_type": "code",
   "execution_count": 39,
   "metadata": {},
   "outputs": [],
   "source": [
    "map.add_layer(trailheads)\n",
    "map.add_layer(trails)\n",
    "map.add_layer(campsites)"
   ]
  },
  {
   "cell_type": "code",
   "execution_count": null,
   "metadata": {},
   "outputs": [],
   "source": []
  },
  {
   "cell_type": "code",
   "execution_count": 40,
   "metadata": {},
   "outputs": [
    {
     "data": {
      "application/vnd.jupyter.widget-view+json": {
       "model_id": "71dea02590ce4d8da8ac84005df007f3",
       "version_major": 2,
       "version_minor": 0
      },
      "text/plain": [
       "MapView(layout=Layout(height='400px', width='100%'))"
      ]
     },
     "metadata": {},
     "output_type": "display_data"
    },
    {
     "data": {
      "text/html": [
       "<div class=\"map-static-img-preview-80b3b05c-8243-485f-ac05-f44db01cf195\"><img src=\"\"></img></div>"
      ],
      "text/plain": [
       "<IPython.core.display.HTML object>"
      ]
     },
     "metadata": {},
     "output_type": "display_data"
    }
   ],
   "source": [
    "map"
   ]
  },
  {
   "cell_type": "code",
   "execution_count": null,
   "metadata": {},
   "outputs": [],
   "source": []
  }
 ],
 "metadata": {
  "kernelspec": {
   "display_name": "Python 3",
   "language": "python",
   "name": "python3"
  },
  "language_info": {
   "codemirror_mode": {
    "name": "ipython",
    "version": 3
   },
   "file_extension": ".py",
   "mimetype": "text/x-python",
   "name": "python",
   "nbconvert_exporter": "python",
   "pygments_lexer": "ipython3",
   "version": "3.8.3"
  }
 },
 "nbformat": 4,
 "nbformat_minor": 1
}
