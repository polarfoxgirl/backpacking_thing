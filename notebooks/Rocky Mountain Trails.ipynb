{
 "cells": [
  {
   "cell_type": "code",
   "execution_count": 1,
   "metadata": {},
   "outputs": [],
   "source": [
    "from arcgis.gis import GIS, Layer\n",
    "from IPython.display import display"
   ]
  },
  {
   "cell_type": "code",
   "execution_count": 2,
   "metadata": {},
   "outputs": [],
   "source": [
    "gis = GIS()"
   ]
  },
  {
   "cell_type": "code",
   "execution_count": 3,
   "metadata": {},
   "outputs": [],
   "source": [
    "map = gis.map(\"Rocky Mountain National Park\")"
   ]
  },
  {
   "cell_type": "code",
   "execution_count": 4,
   "metadata": {},
   "outputs": [
    {
     "data": {
      "text/html": [
       "<div class=\"item_container\" style=\"height: auto; overflow: hidden; border: 1px solid #cfcfcf; border-radius: 2px; background: #f6fafa; line-height: 1.21429em; padding: 10px;\">\n",
       "                    <div class=\"item_left\" style=\"width: 210px; float: left;\">\n",
       "                       <a href='https://www.arcgis.com/home/item.html?id=93f614510d274e17bf4e77b6102b79ba' target='_blank'>\n",
       "                        <img src='https://www.arcgis.com/sharing/rest//content/items/93f614510d274e17bf4e77b6102b79ba/info/thumbnail/thumbnail.png' class=\"itemThumbnail\">\n",
       "                       </a>\n",
       "                    </div>\n",
       "\n",
       "                    <div class=\"item_right\"     style=\"float: none; width: auto; overflow: hidden;\">\n",
       "                        <a href='https://www.arcgis.com/home/item.html?id=93f614510d274e17bf4e77b6102b79ba' target='_blank'><b>Backcountry Campsites for 2017</b>\n",
       "                        </a>\n",
       "                        <br/>Backcountry campsite locations within Rocky Mountain National Park for 2017. For more information, visit: https://www.nps.gov/romo/planyourvisit/wilderness-camping.htm<img src='https://www.arcgis.com/home/js/jsapi/esri/css/images/item_type_icons/featureshosted16.png' style=\"vertical-align:middle;\">Feature Layer Collection by romo_gis\n",
       "                        <br/>Last Modified: July 03, 2019\n",
       "                        <br/>0 comments, 1,354 views\n",
       "                    </div>\n",
       "                </div>\n",
       "                "
      ],
      "text/plain": [
       "<Item title:\"Backcountry Campsites for 2017\" type:Feature Layer Collection owner:romo_gis>"
      ]
     },
     "metadata": {},
     "output_type": "display_data"
    },
    {
     "data": {
      "text/html": [
       "<div class=\"item_container\" style=\"height: auto; overflow: hidden; border: 1px solid #cfcfcf; border-radius: 2px; background: #f6fafa; line-height: 1.21429em; padding: 10px;\">\n",
       "                    <div class=\"item_left\" style=\"width: 210px; float: left;\">\n",
       "                       <a href='https://www.arcgis.com/home/item.html?id=f781fdc73f924a0f9e3eb45b695f2999' target='_blank'>\n",
       "                        <img src='https://www.arcgis.com/sharing/rest//content/items/f781fdc73f924a0f9e3eb45b695f2999/info/thumbnail/ago_downloaded.png' class=\"itemThumbnail\">\n",
       "                       </a>\n",
       "                    </div>\n",
       "\n",
       "                    <div class=\"item_right\"     style=\"float: none; width: auto; overflow: hidden;\">\n",
       "                        <a href='https://www.arcgis.com/home/item.html?id=f781fdc73f924a0f9e3eb45b695f2999' target='_blank'><b>Rocky Mountain National Park - Backcountry Mgt Zones</b>\n",
       "                        </a>\n",
       "                        <br/>Rocky Mountain National Park - Backcountry Mgt Zones  (Public, Open Data)<img src='https://www.arcgis.com/home/js/jsapi/esri/css/images/item_type_icons/featureshosted16.png' style=\"vertical-align:middle;\">Feature Layer Collection by imrgis_nps\n",
       "                        <br/>Last Modified: April 08, 2019\n",
       "                        <br/>0 comments, 139 views\n",
       "                    </div>\n",
       "                </div>\n",
       "                "
      ],
      "text/plain": [
       "<Item title:\"Rocky Mountain National Park - Backcountry Mgt Zones\" type:Feature Layer Collection owner:imrgis_nps>"
      ]
     },
     "metadata": {},
     "output_type": "display_data"
    },
    {
     "data": {
      "text/html": [
       "<div class=\"item_container\" style=\"height: auto; overflow: hidden; border: 1px solid #cfcfcf; border-radius: 2px; background: #f6fafa; line-height: 1.21429em; padding: 10px;\">\n",
       "                    <div class=\"item_left\" style=\"width: 210px; float: left;\">\n",
       "                       <a href='https://www.arcgis.com/home/item.html?id=d8d7e34d753540b08c6404c213be38a0' target='_blank'>\n",
       "                        <img src='https://www.arcgis.com/sharing/rest//content/items/d8d7e34d753540b08c6404c213be38a0/info/thumbnail/ago_downloaded.png' class=\"itemThumbnail\">\n",
       "                       </a>\n",
       "                    </div>\n",
       "\n",
       "                    <div class=\"item_right\"     style=\"float: none; width: auto; overflow: hidden;\">\n",
       "                        <a href='https://www.arcgis.com/home/item.html?id=d8d7e34d753540b08c6404c213be38a0' target='_blank'><b>Rocky Mountain National Park - Backcountry Place Names</b>\n",
       "                        </a>\n",
       "                        <br/>Rocky Mountain National Park - Backcountry Place Names  (Public, Open Data)<img src='https://www.arcgis.com/home/js/jsapi/esri/css/images/item_type_icons/featureshosted16.png' style=\"vertical-align:middle;\">Feature Layer Collection by imrgis_nps\n",
       "                        <br/>Last Modified: April 08, 2019\n",
       "                        <br/>0 comments, 81 views\n",
       "                    </div>\n",
       "                </div>\n",
       "                "
      ],
      "text/plain": [
       "<Item title:\"Rocky Mountain National Park - Backcountry Place Names\" type:Feature Layer Collection owner:imrgis_nps>"
      ]
     },
     "metadata": {},
     "output_type": "display_data"
    }
   ],
   "source": [
    "rmnp_group = gis.groups.search('title:Rocky Mountain National Park Open Data', max_groups=1)[0]\n",
    "for item in rmnp_group.content()[:3]:\n",
    "    display(item)"
   ]
  },
  {
   "cell_type": "code",
   "execution_count": 5,
   "metadata": {},
   "outputs": [],
   "source": [
    "trail_search = gis.content.search('title:Rocky Mountain National Park - Trails owner:imrgis_nps')\n",
    "trailheads = trail_search[0]\n",
    "trails = trail_search[1]"
   ]
  },
  {
   "cell_type": "code",
   "execution_count": 6,
   "metadata": {},
   "outputs": [],
   "source": [
    "campsites = gis.content.search('title:Backcountry Campsites for 2017')[0]"
   ]
  },
  {
   "cell_type": "code",
   "execution_count": 7,
   "metadata": {},
   "outputs": [],
   "source": [
    "map.add_layer(trailheads)\n",
    "map.add_layer(trails)\n",
    "map.add_layer(campsites)"
   ]
  },
  {
   "cell_type": "code",
   "execution_count": 8,
   "metadata": {},
   "outputs": [],
   "source": [
    "# from arcgis.widgets import MapView\n",
    "# MapView.set_js_cdn(\"http://js.arcgis.com/4.X/\")"
   ]
  },
  {
   "cell_type": "code",
   "execution_count": 9,
   "metadata": {},
   "outputs": [
    {
     "data": {
      "application/vnd.jupyter.widget-view+json": {
       "model_id": "5d68f671792c4a7da82e7478dc0e3283",
       "version_major": 2,
       "version_minor": 0
      },
      "text/plain": [
       "MapView(layout=Layout(height='400px', width='100%'))"
      ]
     },
     "metadata": {},
     "output_type": "display_data"
    },
    {
     "data": {
      "text/html": [
       "<div class=\"map-static-img-preview-e0f567d0-248b-4ff6-99db-be55aec63ebb\"><img src=\"\"></img></div>"
      ],
      "text/plain": [
       "<IPython.core.display.HTML object>"
      ]
     },
     "metadata": {},
     "output_type": "display_data"
    }
   ],
   "source": [
    "map"
   ]
  },
  {
   "cell_type": "markdown",
   "metadata": {},
   "source": [
    "## Trail Lengths"
   ]
  },
  {
   "cell_type": "code",
   "execution_count": 10,
   "metadata": {},
   "outputs": [],
   "source": [
    "import pandas as pd"
   ]
  },
  {
   "cell_type": "code",
   "execution_count": 11,
   "metadata": {},
   "outputs": [
    {
     "data": {
      "text/html": [
       "<div>\n",
       "<style scoped>\n",
       "    .dataframe tbody tr th:only-of-type {\n",
       "        vertical-align: middle;\n",
       "    }\n",
       "\n",
       "    .dataframe tbody tr th {\n",
       "        vertical-align: top;\n",
       "    }\n",
       "\n",
       "    .dataframe thead th {\n",
       "        text-align: right;\n",
       "    }\n",
       "</style>\n",
       "<table border=\"1\" class=\"dataframe\">\n",
       "  <thead>\n",
       "    <tr style=\"text-align: right;\">\n",
       "      <th></th>\n",
       "      <th>OBJECTID</th>\n",
       "      <th>POINAME</th>\n",
       "      <th>POITYPE</th>\n",
       "      <th>FEE</th>\n",
       "      <th>STEWARD</th>\n",
       "      <th>DATAOWNER</th>\n",
       "      <th>NOTES</th>\n",
       "      <th>Parking</th>\n",
       "      <th>PUBLICDISPLAY</th>\n",
       "      <th>DATAACCESS</th>\n",
       "      <th>...</th>\n",
       "      <th>GROUPNAME</th>\n",
       "      <th>GEOMETRYID</th>\n",
       "      <th>MAINTAINER</th>\n",
       "      <th>ISEXTANT</th>\n",
       "      <th>FACLOCID</th>\n",
       "      <th>FACASSETID</th>\n",
       "      <th>FEATUREID</th>\n",
       "      <th>SEASONAL</th>\n",
       "      <th>SEASDESC</th>\n",
       "      <th>SHAPE</th>\n",
       "    </tr>\n",
       "  </thead>\n",
       "  <tbody>\n",
       "    <tr>\n",
       "      <th>0</th>\n",
       "      <td>1</td>\n",
       "      <td>Endovalley</td>\n",
       "      <td>Trailhead</td>\n",
       "      <td>Park Entrance/Pay.gov</td>\n",
       "      <td>https://www.nps.gov/romo/planyourvisit/fees.htm</td>\n",
       "      <td>Rocky Mountain National Park</td>\n",
       "      <td></td>\n",
       "      <td>Yes</td>\n",
       "      <td>Public Map Display</td>\n",
       "      <td>Unrestricted</td>\n",
       "      <td>...</td>\n",
       "      <td>N/A</td>\n",
       "      <td>{D5EA2CB8-693E-4DB9-8640-1121D8533376}</td>\n",
       "      <td>National Park Service</td>\n",
       "      <td>True</td>\n",
       "      <td>None</td>\n",
       "      <td>None</td>\n",
       "      <td>None</td>\n",
       "      <td>None</td>\n",
       "      <td>None</td>\n",
       "      <td>{\"x\": 446979.7008999996, \"y\": 4472887.21859999...</td>\n",
       "    </tr>\n",
       "    <tr>\n",
       "      <th>1</th>\n",
       "      <td>2</td>\n",
       "      <td>Lawn Lake</td>\n",
       "      <td>Trailhead</td>\n",
       "      <td>Park Entrance/Pay.gov</td>\n",
       "      <td>https://www.nps.gov/romo/planyourvisit/fees.htm</td>\n",
       "      <td>Rocky Mountain National Park</td>\n",
       "      <td></td>\n",
       "      <td>Yes</td>\n",
       "      <td>Public Map Display</td>\n",
       "      <td>Unrestricted</td>\n",
       "      <td>...</td>\n",
       "      <td>N/A</td>\n",
       "      <td>{8FD29A28-0EAF-499F-A605-A7DA2FCFA614}</td>\n",
       "      <td>National Park Service</td>\n",
       "      <td>True</td>\n",
       "      <td>None</td>\n",
       "      <td>None</td>\n",
       "      <td>None</td>\n",
       "      <td>None</td>\n",
       "      <td>None</td>\n",
       "      <td>{\"x\": 446854.21920000017, \"y\": 4473141.7393, \"...</td>\n",
       "    </tr>\n",
       "    <tr>\n",
       "      <th>2</th>\n",
       "      <td>3</td>\n",
       "      <td>East Alluvial Fan</td>\n",
       "      <td>Trailhead</td>\n",
       "      <td>Park Entrance/Pay.gov</td>\n",
       "      <td>https://www.nps.gov/romo/planyourvisit/fees.htm</td>\n",
       "      <td>Rocky Mountain National Park</td>\n",
       "      <td></td>\n",
       "      <td>Yes</td>\n",
       "      <td>Public Map Display</td>\n",
       "      <td>Unrestricted</td>\n",
       "      <td>...</td>\n",
       "      <td>N/A</td>\n",
       "      <td>{70189ADA-C838-4A24-850E-2AB3EBA97923}</td>\n",
       "      <td>National Park Service</td>\n",
       "      <td>True</td>\n",
       "      <td>None</td>\n",
       "      <td>None</td>\n",
       "      <td>None</td>\n",
       "      <td>None</td>\n",
       "      <td>None</td>\n",
       "      <td>{\"x\": 446381.15029999986, \"y\": 4473450.2129999...</td>\n",
       "    </tr>\n",
       "    <tr>\n",
       "      <th>3</th>\n",
       "      <td>4</td>\n",
       "      <td>West Alluvial Fan</td>\n",
       "      <td>Trailhead</td>\n",
       "      <td>Park Entrance/Pay.gov</td>\n",
       "      <td>https://www.nps.gov/romo/planyourvisit/fees.htm</td>\n",
       "      <td>Rocky Mountain National Park</td>\n",
       "      <td></td>\n",
       "      <td>Yes</td>\n",
       "      <td>Public Map Display</td>\n",
       "      <td>Unrestricted</td>\n",
       "      <td>...</td>\n",
       "      <td>N/A</td>\n",
       "      <td>{B43B170A-B66A-4004-A782-CBFF02F25372}</td>\n",
       "      <td>National Park Service</td>\n",
       "      <td>True</td>\n",
       "      <td>None</td>\n",
       "      <td>None</td>\n",
       "      <td>None</td>\n",
       "      <td>None</td>\n",
       "      <td>None</td>\n",
       "      <td>{\"x\": 445912.7851999998, \"y\": 4473549.0579, \"s...</td>\n",
       "    </tr>\n",
       "    <tr>\n",
       "      <th>4</th>\n",
       "      <td>5</td>\n",
       "      <td>Abandoned Beaver Ponds</td>\n",
       "      <td>Trailhead</td>\n",
       "      <td>Park Entrance/Pay.gov</td>\n",
       "      <td>https://www.nps.gov/romo/planyourvisit/fees.htm</td>\n",
       "      <td>Rocky Mountain National Park</td>\n",
       "      <td></td>\n",
       "      <td>Yes</td>\n",
       "      <td>Public Map Display</td>\n",
       "      <td>Unrestricted</td>\n",
       "      <td>...</td>\n",
       "      <td>N/A</td>\n",
       "      <td>{B6A435BD-465C-4B50-9D9F-DB9B23068E43}</td>\n",
       "      <td>National Park Service</td>\n",
       "      <td>True</td>\n",
       "      <td>None</td>\n",
       "      <td>None</td>\n",
       "      <td>None</td>\n",
       "      <td>None</td>\n",
       "      <td>None</td>\n",
       "      <td>{\"x\": 445593.57100000046, \"y\": 4472250.3532, \"...</td>\n",
       "    </tr>\n",
       "  </tbody>\n",
       "</table>\n",
       "<p>5 rows × 35 columns</p>\n",
       "</div>"
      ],
      "text/plain": [
       "   OBJECTID                 POINAME    POITYPE                    FEE  \\\n",
       "0         1              Endovalley  Trailhead  Park Entrance/Pay.gov   \n",
       "1         2               Lawn Lake  Trailhead  Park Entrance/Pay.gov   \n",
       "2         3       East Alluvial Fan  Trailhead  Park Entrance/Pay.gov   \n",
       "3         4       West Alluvial Fan  Trailhead  Park Entrance/Pay.gov   \n",
       "4         5  Abandoned Beaver Ponds  Trailhead  Park Entrance/Pay.gov   \n",
       "\n",
       "                                           STEWARD  \\\n",
       "0  https://www.nps.gov/romo/planyourvisit/fees.htm   \n",
       "1  https://www.nps.gov/romo/planyourvisit/fees.htm   \n",
       "2  https://www.nps.gov/romo/planyourvisit/fees.htm   \n",
       "3  https://www.nps.gov/romo/planyourvisit/fees.htm   \n",
       "4  https://www.nps.gov/romo/planyourvisit/fees.htm   \n",
       "\n",
       "                      DATAOWNER NOTES Parking       PUBLICDISPLAY  \\\n",
       "0  Rocky Mountain National Park           Yes  Public Map Display   \n",
       "1  Rocky Mountain National Park           Yes  Public Map Display   \n",
       "2  Rocky Mountain National Park           Yes  Public Map Display   \n",
       "3  Rocky Mountain National Park           Yes  Public Map Display   \n",
       "4  Rocky Mountain National Park           Yes  Public Map Display   \n",
       "\n",
       "     DATAACCESS  ... GROUPNAME                              GEOMETRYID  \\\n",
       "0  Unrestricted  ...       N/A  {D5EA2CB8-693E-4DB9-8640-1121D8533376}   \n",
       "1  Unrestricted  ...       N/A  {8FD29A28-0EAF-499F-A605-A7DA2FCFA614}   \n",
       "2  Unrestricted  ...       N/A  {70189ADA-C838-4A24-850E-2AB3EBA97923}   \n",
       "3  Unrestricted  ...       N/A  {B43B170A-B66A-4004-A782-CBFF02F25372}   \n",
       "4  Unrestricted  ...       N/A  {B6A435BD-465C-4B50-9D9F-DB9B23068E43}   \n",
       "\n",
       "              MAINTAINER ISEXTANT FACLOCID FACASSETID FEATUREID SEASONAL  \\\n",
       "0  National Park Service     True     None       None      None     None   \n",
       "1  National Park Service     True     None       None      None     None   \n",
       "2  National Park Service     True     None       None      None     None   \n",
       "3  National Park Service     True     None       None      None     None   \n",
       "4  National Park Service     True     None       None      None     None   \n",
       "\n",
       "  SEASDESC                                              SHAPE  \n",
       "0     None  {\"x\": 446979.7008999996, \"y\": 4472887.21859999...  \n",
       "1     None  {\"x\": 446854.21920000017, \"y\": 4473141.7393, \"...  \n",
       "2     None  {\"x\": 446381.15029999986, \"y\": 4473450.2129999...  \n",
       "3     None  {\"x\": 445912.7851999998, \"y\": 4473549.0579, \"s...  \n",
       "4     None  {\"x\": 445593.57100000046, \"y\": 4472250.3532, \"...  \n",
       "\n",
       "[5 rows x 35 columns]"
      ]
     },
     "metadata": {},
     "output_type": "display_data"
    }
   ],
   "source": [
    "trails_df = pd.DataFrame.spatial.from_layer(trails.layers[0])\n",
    "display(trails_df.head())"
   ]
  },
  {
   "cell_type": "code",
   "execution_count": 12,
   "metadata": {},
   "outputs": [
    {
     "name": "stdout",
     "output_type": "stream",
     "text": [
      "<class 'arcgis.features.geo._accessor.GeoAccessor'>\n"
     ]
    },
    {
     "data": {
      "image/svg+xml": [
       "<svg xmlns=\"http://www.w3.org/2000/svg\" xmlns:xlink=\"http://www.w3.org/1999/xlink\" width=\"300\" height=\"300\" viewBox=\"425917.9078519999 4449821.656852 31784.730696000508 28392.32609600015\" preserveAspectRatio=\"xMinYMin meet\"><g transform=\"matrix(1,0,0,-1,0,8928035.639800001)\"><circle cx=\"446979.7008999996\" cy=\"4472887.218599999\" r=\"3\" stroke=\"#555555\" stroke-width=\"1\" fill=\"#66cc99\" opacity=\"0.6\" />\n",
       "<circle cx=\"446854.21920000017\" cy=\"4473141.7393\" r=\"3\" stroke=\"#555555\" stroke-width=\"1\" fill=\"#66cc99\" opacity=\"0.6\" />\n",
       "<circle cx=\"446381.15029999986\" cy=\"4473450.2129999995\" r=\"3\" stroke=\"#555555\" stroke-width=\"1\" fill=\"#66cc99\" opacity=\"0.6\" />\n",
       "<circle cx=\"445912.7851999998\" cy=\"4473549.0579\" r=\"3\" stroke=\"#555555\" stroke-width=\"1\" fill=\"#66cc99\" opacity=\"0.6\" />\n",
       "<circle cx=\"445593.57100000046\" cy=\"4472250.3532\" r=\"3\" stroke=\"#555555\" stroke-width=\"1\" fill=\"#66cc99\" opacity=\"0.6\" />\n",
       "<circle cx=\"444441.3956000004\" cy=\"4471688.366\" r=\"3\" stroke=\"#555555\" stroke-width=\"1\" fill=\"#66cc99\" opacity=\"0.6\" />\n",
       "<circle cx=\"439627.6936999997\" cy=\"4471916.184699999\" r=\"3\" stroke=\"#555555\" stroke-width=\"1\" fill=\"#66cc99\" opacity=\"0.6\" />\n",
       "<circle cx=\"437790.9291000003\" cy=\"4473792.107100001\" r=\"3\" stroke=\"#555555\" stroke-width=\"1\" fill=\"#66cc99\" opacity=\"0.6\" />\n",
       "<circle cx=\"431131.0401999997\" cy=\"4474703.5649999995\" r=\"3\" stroke=\"#555555\" stroke-width=\"1\" fill=\"#66cc99\" opacity=\"0.6\" />\n",
       "<circle cx=\"430522.61259999964\" cy=\"4473997.4987\" r=\"3\" stroke=\"#555555\" stroke-width=\"1\" fill=\"#66cc99\" opacity=\"0.6\" />\n",
       "<circle cx=\"427977.3350999998\" cy=\"4472596.644400001\" r=\"3\" stroke=\"#555555\" stroke-width=\"1\" fill=\"#66cc99\" opacity=\"0.6\" />\n",
       "<circle cx=\"428069.50150000025\" cy=\"4472445.399700001\" r=\"3\" stroke=\"#555555\" stroke-width=\"1\" fill=\"#66cc99\" opacity=\"0.6\" />\n",
       "<circle cx=\"427183.6765999999\" cy=\"4467491.7366\" r=\"3\" stroke=\"#555555\" stroke-width=\"1\" fill=\"#66cc99\" opacity=\"0.6\" />\n",
       "<circle cx=\"428321.63159999996\" cy=\"4463148.2688\" r=\"3\" stroke=\"#555555\" stroke-width=\"1\" fill=\"#66cc99\" opacity=\"0.6\" />\n",
       "<circle cx=\"428503.78270000033\" cy=\"4462210.297499999\" r=\"3\" stroke=\"#555555\" stroke-width=\"1\" fill=\"#66cc99\" opacity=\"0.6\" />\n",
       "<circle cx=\"429168.56039999984\" cy=\"4457696.1744\" r=\"3\" stroke=\"#555555\" stroke-width=\"1\" fill=\"#66cc99\" opacity=\"0.6\" />\n",
       "<circle cx=\"450367.35280000046\" cy=\"4467700.2005\" r=\"3\" stroke=\"#555555\" stroke-width=\"1\" fill=\"#66cc99\" opacity=\"0.6\" />\n",
       "<circle cx=\"450342.28560000006\" cy=\"4466326.6987\" r=\"3\" stroke=\"#555555\" stroke-width=\"1\" fill=\"#66cc99\" opacity=\"0.6\" />\n",
       "<circle cx=\"448920.37200000044\" cy=\"4464530.0342\" r=\"3\" stroke=\"#555555\" stroke-width=\"1\" fill=\"#66cc99\" opacity=\"0.6\" />\n",
       "<circle cx=\"448334.0038999999\" cy=\"4463547.622400001\" r=\"3\" stroke=\"#555555\" stroke-width=\"1\" fill=\"#66cc99\" opacity=\"0.6\" />\n",
       "<circle cx=\"447027.7109000003\" cy=\"4463519.5263\" r=\"3\" stroke=\"#555555\" stroke-width=\"1\" fill=\"#66cc99\" opacity=\"0.6\" />\n",
       "<circle cx=\"447322.8662999999\" cy=\"4463472.1873\" r=\"3\" stroke=\"#555555\" stroke-width=\"1\" fill=\"#66cc99\" opacity=\"0.6\" />\n",
       "<circle cx=\"445622.20320000034\" cy=\"4462446.774599999\" r=\"3\" stroke=\"#555555\" stroke-width=\"1\" fill=\"#66cc99\" opacity=\"0.6\" />\n",
       "<circle cx=\"445134.16750000045\" cy=\"4462579.5888\" r=\"3\" stroke=\"#555555\" stroke-width=\"1\" fill=\"#66cc99\" opacity=\"0.6\" />\n",
       "<circle cx=\"452676.7715999996\" cy=\"4458101.5436\" r=\"3\" stroke=\"#555555\" stroke-width=\"1\" fill=\"#66cc99\" opacity=\"0.6\" />\n",
       "<circle cx=\"427822.95409999974\" cy=\"4470255.4571\" r=\"3\" stroke=\"#555555\" stroke-width=\"1\" fill=\"#66cc99\" opacity=\"0.6\" />\n",
       "<circle cx=\"440985.7039000001\" cy=\"4471649.5594999995\" r=\"3\" stroke=\"#555555\" stroke-width=\"1\" fill=\"#66cc99\" opacity=\"0.6\" />\n",
       "<circle cx=\"448593.98979999963\" cy=\"4465837.7502\" r=\"3\" stroke=\"#555555\" stroke-width=\"1\" fill=\"#66cc99\" opacity=\"0.6\" />\n",
       "<circle cx=\"448588.5831000004\" cy=\"4463774.0163\" r=\"3\" stroke=\"#555555\" stroke-width=\"1\" fill=\"#66cc99\" opacity=\"0.6\" />\n",
       "<circle cx=\"454512.03050000034\" cy=\"4452284.27\" r=\"3\" stroke=\"#555555\" stroke-width=\"1\" fill=\"#66cc99\" opacity=\"0.6\" />\n",
       "<circle cx=\"456525.4263000004\" cy=\"4471847.986099999\" r=\"3\" stroke=\"#555555\" stroke-width=\"1\" fill=\"#66cc99\" opacity=\"0.6\" />\n",
       "<circle cx=\"427095.12009999994\" cy=\"4466363.430299999\" r=\"3\" stroke=\"#555555\" stroke-width=\"1\" fill=\"#66cc99\" opacity=\"0.6\" />\n",
       "<circle cx=\"454361.7949999999\" cy=\"4461924.182499999\" r=\"3\" stroke=\"#555555\" stroke-width=\"1\" fill=\"#66cc99\" opacity=\"0.6\" />\n",
       "<circle cx=\"447895.86369999964\" cy=\"4469328.328400001\" r=\"3\" stroke=\"#555555\" stroke-width=\"1\" fill=\"#66cc99\" opacity=\"0.6\" />\n",
       "<circle cx=\"428056.64350000024\" cy=\"4471082.746099999\" r=\"3\" stroke=\"#555555\" stroke-width=\"1\" fill=\"#66cc99\" opacity=\"0.6\" />\n",
       "<circle cx=\"436075.5553000001\" cy=\"4477036.7707\" r=\"3\" stroke=\"#555555\" stroke-width=\"1\" fill=\"#66cc99\" opacity=\"0.6\" />\n",
       "<circle cx=\"450457.68479999993\" cy=\"4467205.7194\" r=\"3\" stroke=\"#555555\" stroke-width=\"1\" fill=\"#66cc99\" opacity=\"0.6\" />\n",
       "<circle cx=\"431934.3986999998\" cy=\"4454668.0679\" r=\"3\" stroke=\"#555555\" stroke-width=\"1\" fill=\"#66cc99\" opacity=\"0.6\" />\n",
       "<circle cx=\"430744.0044\" cy=\"4456581.0383\" r=\"3\" stroke=\"#555555\" stroke-width=\"1\" fill=\"#66cc99\" opacity=\"0.6\" />\n",
       "<circle cx=\"451785.2653999999\" cy=\"4450998.869100001\" r=\"3\" stroke=\"#555555\" stroke-width=\"1\" fill=\"#66cc99\" opacity=\"0.6\" />\n",
       "<circle cx=\"454301.34729999956\" cy=\"4461928.595799999\" r=\"3\" stroke=\"#555555\" stroke-width=\"1\" fill=\"#66cc99\" opacity=\"0.6\" />\n",
       "<circle cx=\"447725.7778000003\" cy=\"4467473.140000001\" r=\"3\" stroke=\"#555555\" stroke-width=\"1\" fill=\"#66cc99\" opacity=\"0.6\" />\n",
       "<circle cx=\"447417.4818000002\" cy=\"4467581.2337\" r=\"3\" stroke=\"#555555\" stroke-width=\"1\" fill=\"#66cc99\" opacity=\"0.6\" />\n",
       "<circle cx=\"446420.4506999999\" cy=\"4467338.3894\" r=\"3\" stroke=\"#555555\" stroke-width=\"1\" fill=\"#66cc99\" opacity=\"0.6\" />\n",
       "<circle cx=\"427209.3384999996\" cy=\"4464534.8715\" r=\"3\" stroke=\"#555555\" stroke-width=\"1\" fill=\"#66cc99\" opacity=\"0.6\" />\n",
       "<circle cx=\"427452.0031000003\" cy=\"4469476.7819\" r=\"3\" stroke=\"#555555\" stroke-width=\"1\" fill=\"#66cc99\" opacity=\"0.6\" />\n",
       "<circle cx=\"438058.1805999996\" cy=\"4476280.616\" r=\"3\" stroke=\"#555555\" stroke-width=\"1\" fill=\"#66cc99\" opacity=\"0.6\" />\n",
       "<circle cx=\"444278.9008999998\" cy=\"4473860.7052\" r=\"3\" stroke=\"#555555\" stroke-width=\"1\" fill=\"#66cc99\" opacity=\"0.6\" />\n",
       "<circle cx=\"448231.8629999999\" cy=\"4470887.391100001\" r=\"3\" stroke=\"#555555\" stroke-width=\"1\" fill=\"#66cc99\" opacity=\"0.6\" />\n",
       "<circle cx=\"449369.3529000003\" cy=\"4469069.511\" r=\"3\" stroke=\"#555555\" stroke-width=\"1\" fill=\"#66cc99\" opacity=\"0.6\" />\n",
       "<circle cx=\"449669.0526999999\" cy=\"4468984.8824000005\" r=\"3\" stroke=\"#555555\" stroke-width=\"1\" fill=\"#66cc99\" opacity=\"0.6\" />\n",
       "<circle cx=\"447905.4064999996\" cy=\"4467639.0911\" r=\"3\" stroke=\"#555555\" stroke-width=\"1\" fill=\"#66cc99\" opacity=\"0.6\" />\n",
       "<circle cx=\"453076.89910000004\" cy=\"4451302.174900001\" r=\"3\" stroke=\"#555555\" stroke-width=\"1\" fill=\"#66cc99\" opacity=\"0.6\" />\n",
       "<circle cx=\"429752.50129999965\" cy=\"4454762.648399999\" r=\"3\" stroke=\"#555555\" stroke-width=\"1\" fill=\"#66cc99\" opacity=\"0.6\" />\n",
       "<circle cx=\"452264.7742999997\" cy=\"4451032.565199999\" r=\"3\" stroke=\"#555555\" stroke-width=\"1\" fill=\"#66cc99\" opacity=\"0.6\" /></g></svg>"
      ],
      "text/plain": [
       "<arcgis.features.geo._accessor.GeoAccessor at 0x1ad8da34490>"
      ]
     },
     "metadata": {},
     "output_type": "display_data"
    }
   ],
   "source": [
    "print(type(trails_df.spatial))\n",
    "display(trails_df.spatial)"
   ]
  },
  {
   "cell_type": "code",
   "execution_count": 13,
   "metadata": {},
   "outputs": [
    {
     "name": "stdout",
     "output_type": "stream",
     "text": [
      "<class 'arcgis.geometry._types.Point'>\n"
     ]
    },
    {
     "data": {
      "image/svg+xml": [
       "<svg xmlns=\"http://www.w3.org/2000/svg\" xmlns:xlink=\"http://www.w3.org/1999/xlink\" width=\"100.0\" height=\"100.0\" viewBox=\"446978.7008999996 4472886.218599999 2.0 2.0\" preserveAspectRatio=\"xMinYMin meet\"><g transform=\"matrix(1,0,0,-1,0,8945774.437199999)\"><circle cx=\"446979.7008999996\" cy=\"4472887.218599999\" r=\"0.06\" stroke=\"#555555\" stroke-width=\"0.02\" fill=\"#66cc99\" opacity=\"0.6\" /></g></svg>"
      ],
      "text/plain": [
       "{'x': 446979.7008999996,\n",
       " 'y': 4472887.218599999,\n",
       " 'spatialReference': {'wkid': 102382, 'latestWkid': 6342}}"
      ]
     },
     "metadata": {},
     "output_type": "display_data"
    }
   ],
   "source": [
    "trails_df_row0 = trails_df.iloc[0].SHAPE\n",
    "print(type(trails_df_row0))\n",
    "display(trails_df_row0)"
   ]
  },
  {
   "cell_type": "code",
   "execution_count": 14,
   "metadata": {},
   "outputs": [
    {
     "data": {
      "text/plain": [
       "0.0"
      ]
     },
     "execution_count": 14,
     "metadata": {},
     "output_type": "execute_result"
    }
   ],
   "source": [
    "trails_df_row0.length"
   ]
  },
  {
   "cell_type": "code",
   "execution_count": null,
   "metadata": {},
   "outputs": [],
   "source": []
  }
 ],
 "metadata": {
  "kernelspec": {
   "display_name": "Python 3",
   "language": "python",
   "name": "python3"
  },
  "language_info": {
   "codemirror_mode": {
    "name": "ipython",
    "version": 3
   },
   "file_extension": ".py",
   "mimetype": "text/x-python",
   "name": "python",
   "nbconvert_exporter": "python",
   "pygments_lexer": "ipython3",
   "version": "3.8.3"
  }
 },
 "nbformat": 4,
 "nbformat_minor": 4
}
