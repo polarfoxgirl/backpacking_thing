{
 "cells": [
  {
   "cell_type": "markdown",
   "metadata": {},
   "source": [
    "Following the guide from https://developers.arcgis.com/python/guide/part3-spatial-operations-on-geometries/\n",
    "\n",
    "NOTE: using OOP approach since it's using (free) local geometry system (`shapely` in my case) and not GIS servers"
   ]
  },
  {
   "cell_type": "code",
   "execution_count": 25,
   "metadata": {},
   "outputs": [],
   "source": [
    "from arcgis.gis import GIS\n",
    "from arcgis.geometry import Polygon, Geometry, Point, Polyline\n",
    "from arcgis.geocoding import geocode"
   ]
  },
  {
   "cell_type": "code",
   "execution_count": 26,
   "metadata": {},
   "outputs": [],
   "source": [
    "gis = GIS()"
   ]
  },
  {
   "cell_type": "code",
   "execution_count": 3,
   "metadata": {},
   "outputs": [],
   "source": [
    "geom1_json = {'spatialReference': {'latestWkid': 3857, 'wkid': 102100}, 'rings': [[[-8232647.749922129, 4978983.410862541], [-8232389.7749516675, 4978840.091434507], [-8232762.405464557, 4978161.712808477], [-8233001.2711779475, 4978295.477607976], [-8232647.749922129, 4978983.410862541]]]}\n",
    "geom2_json = {'spatialReference': {'latestWkid': 3857, 'wkid': 102100}, 'rings': [[[-8232619.086036522, 4978994.876241834], [-8232275.11940924, 4979644.590982256], [-8231988.480553171, 4979482.162297151], [-8232380.220323131, 4978822.892928192], [-8232619.086036522, 4978994.876241834]]]}"
   ]
  },
  {
   "cell_type": "code",
   "execution_count": 4,
   "metadata": {},
   "outputs": [],
   "source": [
    "geom1 = Polygon(geom1_json)\n",
    "geom2 = Polygon(geom2_json)"
   ]
  },
  {
   "cell_type": "code",
   "execution_count": 5,
   "metadata": {},
   "outputs": [
    {
     "data": {
      "image/svg+xml": [
       "<svg xmlns=\"http://www.w3.org/2000/svg\" xmlns:xlink=\"http://www.w3.org/1999/xlink\" width=\"300\" height=\"300\" viewBox=\"-8233034.13910011 4978128.844886314 677.2320706052706 887.4338983893394\" preserveAspectRatio=\"xMinYMin meet\"><g transform=\"matrix(1,0,0,-1,0,9957145.123671018)\"><path fill-rule=\"evenodd\" fill=\"#66cc99\" stroke=\"#555555\" stroke-width=\"5.916225989262263\" opacity=\"0.6\" d=\"M -8232647.749922129,4978983.410862541 L -8232389.7749516675,4978840.091434507 L -8232762.405464557,4978161.712808477 L -8233001.2711779475,4978295.477607976 L -8232647.749922129,4978983.410862541 z\" /></g></svg>"
      ],
      "text/plain": [
       "{'spatialReference': {'latestWkid': 3857, 'wkid': 102100},\n",
       " 'rings': [[[-8232647.749922129, 4978983.410862541],\n",
       "   [-8232389.7749516675, 4978840.091434507],\n",
       "   [-8232762.405464557, 4978161.712808477],\n",
       "   [-8233001.2711779475, 4978295.477607976],\n",
       "   [-8232647.749922129, 4978983.410862541]]]}"
      ]
     },
     "execution_count": 5,
     "metadata": {},
     "output_type": "execute_result"
    }
   ],
   "source": [
    "geom1"
   ]
  },
  {
   "cell_type": "code",
   "execution_count": 6,
   "metadata": {},
   "outputs": [
    {
     "data": {
      "image/svg+xml": [
       "<svg xmlns=\"http://www.w3.org/2000/svg\" xmlns:xlink=\"http://www.w3.org/1999/xlink\" width=\"300\" height=\"300\" viewBox=\"-8232651.953958685 4978790.02500603 696.3413276765496 887.4338983893394\" preserveAspectRatio=\"xMinYMin meet\"><g transform=\"matrix(1,0,0,-1,0,9958467.483910449)\"><path fill-rule=\"evenodd\" fill=\"#66cc99\" stroke=\"#555555\" stroke-width=\"5.916225989262263\" opacity=\"0.6\" d=\"M -8232619.086036522,4978994.876241834 L -8232275.11940924,4979644.590982256 L -8231988.480553171,4979482.162297151 L -8232380.220323131,4978822.892928192 L -8232619.086036522,4978994.876241834 z\" /></g></svg>"
      ],
      "text/plain": [
       "{'spatialReference': {'latestWkid': 3857, 'wkid': 102100},\n",
       " 'rings': [[[-8232619.086036522, 4978994.876241834],\n",
       "   [-8232275.11940924, 4979644.590982256],\n",
       "   [-8231988.480553171, 4979482.162297151],\n",
       "   [-8232380.220323131, 4978822.892928192],\n",
       "   [-8232619.086036522, 4978994.876241834]]]}"
      ]
     },
     "execution_count": 6,
     "metadata": {},
     "output_type": "execute_result"
    }
   ],
   "source": [
    "geom2"
   ]
  },
  {
   "cell_type": "code",
   "execution_count": 7,
   "metadata": {},
   "outputs": [
    {
     "data": {
      "image/svg+xml": [
       "<svg xmlns=\"http://www.w3.org/2000/svg\" xmlns:xlink=\"http://www.w3.org/1999/xlink\" width=\"300\" height=\"300\" viewBox=\"-8233060.586304898 4978102.397681526 1131.4208786785603 1601.5084276814014\" preserveAspectRatio=\"xMinYMin meet\"><g transform=\"matrix(1,0,0,-1,0,9957806.303790733)\"><path fill-rule=\"evenodd\" fill=\"#66cc99\" stroke=\"#555555\" stroke-width=\"10.676722851209343\" opacity=\"0.6\" d=\"M -8232647.749922129,4978983.410862541 L -8232452.526684041,4978874.953508047 L -8232619.086036522,4978994.876241834 L -8232275.11940924,4979644.590982256 L -8231988.480553171,4979482.162297151 L -8232380.220323131,4978822.892928192 L -8232393.836798428,4978832.696790406 L -8232762.405464557,4978161.712808477 L -8233001.2711779475,4978295.477607976 L -8232647.749922129,4978983.410862541 z\" /></g></svg>"
      ],
      "text/plain": [
       "{'rings': [[(-8232647.749922129, 4978983.410862541),\n",
       "   (-8232452.526684041, 4978874.953508047),\n",
       "   (-8232619.086036522, 4978994.876241834),\n",
       "   (-8232275.11940924, 4979644.590982256),\n",
       "   (-8231988.480553171, 4979482.162297151),\n",
       "   (-8232380.220323131, 4978822.892928192),\n",
       "   (-8232393.836798428, 4978832.696790406),\n",
       "   (-8232762.405464557, 4978161.712808477),\n",
       "   (-8233001.2711779475, 4978295.477607976),\n",
       "   (-8232647.749922129, 4978983.410862541)]],\n",
       " 'spatialReference': {'wkid': 4326}}"
      ]
     },
     "execution_count": 7,
     "metadata": {},
     "output_type": "execute_result"
    }
   ],
   "source": [
    "geom_union = geom1.union(geom2)\n",
    "geom_union"
   ]
  },
  {
   "cell_type": "code",
   "execution_count": 8,
   "metadata": {},
   "outputs": [],
   "source": [
    "geom3_json = {'spatialReference': {'latestWkid': 3857, 'wkid': 102100}, 'rings': [[[-8233020.380435019, 4978303.121194171], [-8232303.783294846, 4979640.769189159], [-8232026.699067313, 4979497.449761124], [-8232791.069350163, 4978112.028623458], [-8233020.380435019, 4978303.121194171]]]}"
   ]
  },
  {
   "cell_type": "code",
   "execution_count": 9,
   "metadata": {},
   "outputs": [
    {
     "data": {
      "image/svg+xml": [
       "<svg xmlns=\"http://www.w3.org/2000/svg\" xmlns:xlink=\"http://www.w3.org/1999/xlink\" width=\"300\" height=\"300\" viewBox=\"-8233081.530057647 4978050.8790008295 1115.9806129625067 1651.0398109583184\" preserveAspectRatio=\"xMinYMin meet\"><g transform=\"matrix(1,0,0,-1,0,9957752.797812618)\"><path fill-rule=\"evenodd\" fill=\"#66cc99\" stroke=\"#555555\" stroke-width=\"11.006932073055456\" opacity=\"0.6\" d=\"M -8233020.380435019,4978303.121194171 L -8232303.783294846,4979640.769189159 L -8232026.699067313,4979497.449761124 L -8232791.069350163,4978112.028623458 L -8233020.380435019,4978303.121194171 z\" /></g></svg>"
      ],
      "text/plain": [
       "{'spatialReference': {'latestWkid': 3857, 'wkid': 102100},\n",
       " 'rings': [[[-8233020.380435019, 4978303.121194171],\n",
       "   [-8232303.783294846, 4979640.769189159],\n",
       "   [-8232026.699067313, 4979497.449761124],\n",
       "   [-8232791.069350163, 4978112.028623458],\n",
       "   [-8233020.380435019, 4978303.121194171]]]}"
      ]
     },
     "execution_count": 9,
     "metadata": {},
     "output_type": "execute_result"
    }
   ],
   "source": [
    "geom3 = Polygon(geom3_json)\n",
    "geom3"
   ]
  },
  {
   "cell_type": "code",
   "execution_count": 10,
   "metadata": {},
   "outputs": [
    {
     "data": {
      "image/svg+xml": [
       "<svg xmlns=\"http://www.w3.org/2000/svg\" xmlns:xlink=\"http://www.w3.org/1999/xlink\" width=\"300\" height=\"300\" viewBox=\"-8232426.434565832 4978790.02500603 470.8219348238781 887.4338983893394\" preserveAspectRatio=\"xMinYMin meet\"><g transform=\"matrix(1,0,0,-1,0,9958467.483910449)\"><path fill-rule=\"evenodd\" fill=\"#66cc99\" stroke=\"#555555\" stroke-width=\"5.916225989262263\" opacity=\"0.6\" d=\"M -8232282.869588468,4979629.951754826 L -8232275.11940924,4979644.590982256 L -8231988.480553171,4979482.162297151 L -8232380.220323131,4978822.892928192 L -8232393.566643669,4978832.502278979 L -8232026.699067313,4979497.449761124 L -8232282.869588468,4979629.951754826 z\" /><path fill-rule=\"evenodd\" fill=\"#66cc99\" stroke=\"#555555\" stroke-width=\"5.916225989262263\" opacity=\"0.6\" d=\"M -8232479.220830795,4978677.254064812 L -8232762.405464557,4978161.712808477 L -8232763.36188506,4978162.248403958 L -8232479.220830795,4978677.254064812 z\" /></g></svg>"
      ],
      "text/plain": [
       "{'rings': [[(-8232282.869588468, 4979629.951754826),\n",
       "   (-8232275.11940924, 4979644.590982256),\n",
       "   (-8231988.480553171, 4979482.162297151),\n",
       "   (-8232380.220323131, 4978822.892928192),\n",
       "   (-8232393.566643669, 4978832.502278979),\n",
       "   (-8232026.699067313, 4979497.449761124),\n",
       "   (-8232282.869588468, 4979629.951754826)],\n",
       "  [(-8232479.220830795, 4978677.254064812),\n",
       "   (-8232762.405464557, 4978161.712808477),\n",
       "   (-8232763.36188506, 4978162.248403958),\n",
       "   (-8232479.220830795, 4978677.254064812)]],\n",
       " 'spatialReference': {'wkid': 4326}}"
      ]
     },
     "execution_count": 10,
     "metadata": {},
     "output_type": "execute_result"
    }
   ],
   "source": [
    "geom_diff = geom_union.difference(geom3)\n",
    "geom_diff"
   ]
  },
  {
   "cell_type": "code",
   "execution_count": 11,
   "metadata": {},
   "outputs": [
    {
     "data": {
      "image/svg+xml": [
       "<svg xmlns=\"http://www.w3.org/2000/svg\" xmlns:xlink=\"http://www.w3.org/1999/xlink\" width=\"300\" height=\"300\" viewBox=\"-8233081.530057647 4978050.8790008295 859.810091807507 1651.0398109583184\" preserveAspectRatio=\"xMinYMin meet\"><g transform=\"matrix(1,0,0,-1,0,9957752.797812618)\"><path fill-rule=\"evenodd\" fill=\"#66cc99\" stroke=\"#555555\" stroke-width=\"11.006932073055456\" opacity=\"0.6\" d=\"M -8233020.380435019,4978303.121194171 L -8232303.783294846,4979640.769189159 L -8232282.869588468,4979629.951754826 L -8232619.086036522,4978994.876241834 L -8232452.526684041,4978874.953508047 L -8232647.749922129,4978983.410862541 L -8233001.2711779475,4978295.477607976 L -8232763.36188506,4978162.248403958 L -8232791.069350163,4978112.028623458 L -8233020.380435019,4978303.121194171 z\" /><path fill-rule=\"evenodd\" fill=\"#66cc99\" stroke=\"#555555\" stroke-width=\"11.006932073055456\" opacity=\"0.6\" d=\"M -8232393.566643669,4978832.502278979 L -8232479.220830795,4978677.254064812 L -8232393.836798428,4978832.696790406 L -8232393.566643669,4978832.502278979 z\" /></g></svg>"
      ],
      "text/plain": [
       "{'rings': [[(-8233020.380435019, 4978303.121194171),\n",
       "   (-8232303.783294846, 4979640.769189159),\n",
       "   (-8232282.869588468, 4979629.951754826),\n",
       "   (-8232619.086036522, 4978994.876241834),\n",
       "   (-8232452.526684041, 4978874.953508047),\n",
       "   (-8232647.749922129, 4978983.410862541),\n",
       "   (-8233001.2711779475, 4978295.477607976),\n",
       "   (-8232763.36188506, 4978162.248403958),\n",
       "   (-8232791.069350163, 4978112.028623458),\n",
       "   (-8233020.380435019, 4978303.121194171)],\n",
       "  [(-8232393.566643669, 4978832.502278979),\n",
       "   (-8232479.220830795, 4978677.254064812),\n",
       "   (-8232393.836798428, 4978832.696790406),\n",
       "   (-8232393.566643669, 4978832.502278979)]],\n",
       " 'spatialReference': {'wkid': 4326}}"
      ]
     },
     "execution_count": 11,
     "metadata": {},
     "output_type": "execute_result"
    }
   ],
   "source": [
    "geom_diff1 = geom3.difference(geom_union)\n",
    "geom_diff1"
   ]
  },
  {
   "cell_type": "code",
   "execution_count": 12,
   "metadata": {},
   "outputs": [
    {
     "data": {
      "image/svg+xml": [
       "<svg xmlns=\"http://www.w3.org/2000/svg\" xmlns:xlink=\"http://www.w3.org/1999/xlink\" width=\"300\" height=\"300\" viewBox=\"-8233081.530057647 4978050.8790008295 859.810091807507 1651.0398109583184\" preserveAspectRatio=\"xMinYMin meet\"><g transform=\"matrix(1,0,0,-1,0,9957752.797812618)\"><path fill-rule=\"evenodd\" fill=\"#66cc99\" stroke=\"#555555\" stroke-width=\"11.006932073055456\" opacity=\"0.6\" d=\"M -8232282.869588468,4979629.951754826 L -8232619.086036522,4978994.876241834 L -8232452.526684041,4978874.953508047 L -8232647.749922129,4978983.410862541 L -8233001.2711779475,4978295.477607976 L -8232763.36188506,4978162.248403958 L -8232791.069350163,4978112.028623458 L -8233020.380435019,4978303.121194171 L -8232303.783294846,4979640.769189159 L -8232282.869588468,4979629.951754826 z\" /><path fill-rule=\"evenodd\" fill=\"#66cc99\" stroke=\"#555555\" stroke-width=\"11.006932073055456\" opacity=\"0.6\" d=\"M -8232282.869588468,4979629.951754826 L -8232275.11940924,4979644.590982256 L -8231988.480553171,4979482.162297151 L -8232380.220323131,4978822.892928192 L -8232393.566643669,4978832.502278979 L -8232026.699067313,4979497.449761124 L -8232282.869588468,4979629.951754826 z\" /><path fill-rule=\"evenodd\" fill=\"#66cc99\" stroke=\"#555555\" stroke-width=\"11.006932073055456\" opacity=\"0.6\" d=\"M -8232479.220830795,4978677.254064812 L -8232393.836798428,4978832.696790406 L -8232393.566643669,4978832.502278979 L -8232479.220830795,4978677.254064812 z\" /><path fill-rule=\"evenodd\" fill=\"#66cc99\" stroke=\"#555555\" stroke-width=\"11.006932073055456\" opacity=\"0.6\" d=\"M -8232479.220830795,4978677.254064812 L -8232762.405464557,4978161.712808477 L -8232763.36188506,4978162.248403958 L -8232479.220830795,4978677.254064812 z\" /></g></svg>"
      ],
      "text/plain": [
       "{'rings': [[(-8232282.869588468, 4979629.951754826),\n",
       "   (-8232619.086036522, 4978994.876241834),\n",
       "   (-8232452.526684041, 4978874.953508047),\n",
       "   (-8232647.749922129, 4978983.410862541),\n",
       "   (-8233001.2711779475, 4978295.477607976),\n",
       "   (-8232763.36188506, 4978162.248403958),\n",
       "   (-8232791.069350163, 4978112.028623458),\n",
       "   (-8233020.380435019, 4978303.121194171),\n",
       "   (-8232303.783294846, 4979640.769189159),\n",
       "   (-8232282.869588468, 4979629.951754826)],\n",
       "  [(-8232282.869588468, 4979629.951754826),\n",
       "   (-8232275.11940924, 4979644.590982256),\n",
       "   (-8231988.480553171, 4979482.162297151),\n",
       "   (-8232380.220323131, 4978822.892928192),\n",
       "   (-8232393.566643669, 4978832.502278979),\n",
       "   (-8232026.699067313, 4979497.449761124),\n",
       "   (-8232282.869588468, 4979629.951754826)],\n",
       "  [(-8232479.220830795, 4978677.254064812),\n",
       "   (-8232393.836798428, 4978832.696790406),\n",
       "   (-8232393.566643669, 4978832.502278979),\n",
       "   (-8232479.220830795, 4978677.254064812)],\n",
       "  [(-8232479.220830795, 4978677.254064812),\n",
       "   (-8232762.405464557, 4978161.712808477),\n",
       "   (-8232763.36188506, 4978162.248403958),\n",
       "   (-8232479.220830795, 4978677.254064812)]],\n",
       " 'spatialReference': {'wkid': 4326}}"
      ]
     },
     "execution_count": 12,
     "metadata": {},
     "output_type": "execute_result"
    }
   ],
   "source": [
    "geom_sdiff = geom_union.symmetric_difference(geom3)\n",
    "geom_sdiff"
   ]
  },
  {
   "cell_type": "markdown",
   "metadata": {},
   "source": [
    "`second_geometry`: required `arcgis.geometry.Geometry`.\n",
    "\n",
    "A second geometry `dimension`: required Integer. The topological dimension (shape type) of the resulting geometry, which can be\n",
    " \n",
    "- 1: A zero-dimensional geometry (point or multipoint).\n",
    "- 2: A one-dimensional geometry (polyline).\n",
    "- 4: A two-dimensional geometry (polygon)."
   ]
  },
  {
   "cell_type": "code",
   "execution_count": 13,
   "metadata": {},
   "outputs": [
    {
     "data": {
      "image/svg+xml": [
       "<svg xmlns=\"http://www.w3.org/2000/svg\" xmlns:xlink=\"http://www.w3.org/1999/xlink\" width=\"100.0\" height=\"100.0\" viewBox=\"-8232455.036753336 4978830.186721111 67.77187096327543 47.27685623150319\" preserveAspectRatio=\"xMinYMin meet\"><g transform=\"matrix(1,0,0,-1,0,9957707.650298454)\"><path fill-rule=\"evenodd\" fill=\"#66cc99\" stroke=\"#555555\" stroke-width=\"1.3554374192655088\" opacity=\"0.6\" d=\"M -8232452.526684041,4978874.953508047 L -8232389.7749516675,4978840.091434507 L -8232393.836798428,4978832.696790406 L -8232452.526684041,4978874.953508047 z\" /></g></svg>"
      ],
      "text/plain": [
       "{'rings': [[(-8232452.526684041, 4978874.953508047),\n",
       "   (-8232389.7749516675, 4978840.091434507),\n",
       "   (-8232393.836798428, 4978832.696790406),\n",
       "   (-8232452.526684041, 4978874.953508047)]],\n",
       " 'spatialReference': {'wkid': 4326}}"
      ]
     },
     "execution_count": 13,
     "metadata": {},
     "output_type": "execute_result"
    }
   ],
   "source": [
    "geom_intersection = geom1.intersect(second_geometry=geom2, dimension=4)\n",
    "geom_intersection"
   ]
  },
  {
   "cell_type": "code",
   "execution_count": 16,
   "metadata": {},
   "outputs": [
    {
     "data": {
      "text/plain": [
       "True"
      ]
     },
     "execution_count": 16,
     "metadata": {},
     "output_type": "execute_result"
    }
   ],
   "source": [
    "# True, because the intersection of geom1 and geom2 is partial shape of geom1, and is not\n",
    "# equivalent to either one\n",
    "geom1.overlaps(geom2)"
   ]
  },
  {
   "cell_type": "markdown",
   "metadata": {},
   "source": [
    "NOTE: `overlap` is false if one of the geometries is fully contained in another"
   ]
  },
  {
   "cell_type": "code",
   "execution_count": 17,
   "metadata": {},
   "outputs": [
    {
     "data": {
      "text/plain": [
       "False"
      ]
     },
     "execution_count": 17,
     "metadata": {},
     "output_type": "execute_result"
    }
   ],
   "source": [
    "# False, because the intersection of geom1 and geom_intersection is geom_intersection, \n",
    "# and that is equivalent to the second geometry\n",
    "geom1.overlaps(geom_intersection)"
   ]
  },
  {
   "cell_type": "markdown",
   "metadata": {},
   "source": [
    "NOTE: equals only checks 2D projection"
   ]
  },
  {
   "cell_type": "code",
   "execution_count": 18,
   "metadata": {},
   "outputs": [
    {
     "data": {
      "text/plain": [
       "True"
      ]
     },
     "execution_count": 18,
     "metadata": {},
     "output_type": "execute_result"
    }
   ],
   "source": [
    "geom1.equals(geom1)"
   ]
  },
  {
   "cell_type": "code",
   "execution_count": 19,
   "metadata": {},
   "outputs": [
    {
     "data": {
      "text/plain": [
       "False"
      ]
     },
     "execution_count": 19,
     "metadata": {},
     "output_type": "execute_result"
    }
   ],
   "source": [
    "geom_intersection.equals(geom_sdiff)"
   ]
  },
  {
   "cell_type": "markdown",
   "metadata": {},
   "source": [
    "// I'm going to skip some steps about simplifying geometries via `generalize` and `buffer` here"
   ]
  },
  {
   "cell_type": "markdown",
   "metadata": {},
   "source": [
    "## Finding a nearest point"
   ]
  },
  {
   "cell_type": "markdown",
   "metadata": {},
   "source": [
    "The method `query_point_and_distance(second_geometry, use_percentage=False)` can find the point on a polyline nearest to the second_geometry and the distance between these points. It also returns information about which side of the line the second_geometry is on as well as the distance along the line where the nearest point occurs."
   ]
  },
  {
   "cell_type": "code",
   "execution_count": 20,
   "metadata": {},
   "outputs": [],
   "source": [
    "access_point = Point({'spatialReference': {'latestWkid': 3857, 'wkid': 102100}, \n",
    "                      'x': -8234818.501757936, 'y': 4978337.398475052})"
   ]
  },
  {
   "cell_type": "code",
   "execution_count": 21,
   "metadata": {},
   "outputs": [],
   "source": [
    "access_polyline = Polyline({'spatialReference': {'latestWkid': 3857, 'wkid': 102100}, \n",
    "                            'paths': [[[-8234920.019686119, 4978251.645698531], [-8234885.38415768, 4978242.091069995], \n",
    "                                       [-8234849.554300674, 4978245.674055696], [-8234808.947129401, 4978255.228684231],\n",
    "                                       [-8234773.117272396, 4978251.645698531], [-8234751.619358192, 4978239.702412861],\n",
    "                                       [-8234736.093086823, 4978215.815841525]]]})"
   ]
  },
  {
   "cell_type": "code",
   "execution_count": 27,
   "metadata": {},
   "outputs": [
    {
     "data": {
      "application/vnd.jupyter.widget-view+json": {
       "model_id": "925dc6def1324b72a237437c77bf8d3c",
       "version_major": 2,
       "version_minor": 0
      },
      "text/plain": [
       "MapView(layout=Layout(height='400px', width='100%'))"
      ]
     },
     "metadata": {},
     "output_type": "display_data"
    },
    {
     "data": {
      "text/html": [
       "<div class=\"map-static-img-preview-875da09c-0fa7-4575-9e66-3cb7b1a5eeb2\"><img src=\"\"></img></div>"
      ],
      "text/plain": [
       "<IPython.core.display.HTML object>"
      ]
     },
     "metadata": {},
     "output_type": "display_data"
    }
   ],
   "source": [
    "map1 = gis.map()\n",
    "map1.basemap = \"satellite\"\n",
    "map1.extent = {'spatialReference': {'latestWkid': 3857, 'wkid': 102100},\n",
    " 'xmin': -8235024.105413707,\n",
    " 'ymin': 4978145.828180327,\n",
    " 'xmax': -8234435.301430117,\n",
    " 'ymax': 4978384.69389375}\n",
    "map1"
   ]
  },
  {
   "cell_type": "code",
   "execution_count": null,
   "metadata": {},
   "outputs": [],
   "source": []
  }
 ],
 "metadata": {
  "kernelspec": {
   "display_name": "Python 3",
   "language": "python",
   "name": "python3"
  },
  "language_info": {
   "codemirror_mode": {
    "name": "ipython",
    "version": 3
   },
   "file_extension": ".py",
   "mimetype": "text/x-python",
   "name": "python",
   "nbconvert_exporter": "python",
   "pygments_lexer": "ipython3",
   "version": "3.8.3"
  }
 },
 "nbformat": 4,
 "nbformat_minor": 4
}
